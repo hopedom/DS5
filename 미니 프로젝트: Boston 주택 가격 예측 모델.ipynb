{
  "nbformat": 4,
  "nbformat_minor": 0,
  "metadata": {
    "colab": {
      "provenance": [],
      "toc_visible": true,
      "gpuType": "T4",
      "authorship_tag": "ABX9TyNMchpDFYvEkdbquNzduU4w",
      "include_colab_link": true
    },
    "kernelspec": {
      "name": "python3",
      "display_name": "Python 3"
    },
    "language_info": {
      "name": "python"
    },
    "accelerator": "GPU"
  },
  "cells": [
    {
      "cell_type": "markdown",
      "metadata": {
        "id": "view-in-github",
        "colab_type": "text"
      },
      "source": [
        "<a href=\"https://colab.research.google.com/github/hopedom/DS5/blob/main/day4_%EB%94%A5%EB%9F%AC%EB%8B%9D_%ED%94%84%EB%A1%9C%EC%A0%9D%ED%8A%B8.ipynb\" target=\"_parent\"><img src=\"https://colab.research.google.com/assets/colab-badge.svg\" alt=\"Open In Colab\"/></a>"
      ]
    },
    {
      "cell_type": "markdown",
      "source": [
        "# 딥러닝 프로젝트\n"
      ],
      "metadata": {
        "id": "yzBBP72s58yo"
      }
    },
    {
      "cell_type": "markdown",
      "source": [
        "과정 개요\n",
        "___\n",
        "Boston 주택 가격 예측 모델\n",
        "- 여러 데이터를 받아서 가격을 예측하는 프로젝트를 진행해봅니다.\n",
        "<br>\n",
        "\n",
        "Reuters 딥러닝 모델\n",
        "- 시퀀스 데이터를 받아서 분류하는 프로젝트를 진행해봅니다.\n",
        "<br>\n",
        "\n",
        "CIFAR10 딥러닝 모델\n",
        "- 이미지 데이터를 받아서 분류하는 프로젝트를 진행해봅니다."
      ],
      "metadata": {
        "id": "Qb6RVjv46PxU"
      }
    },
    {
      "cell_type": "markdown",
      "source": [
        "## Boston 주택 가격 예측 모델"
      ],
      "metadata": {
        "id": "wBdaoHea7UR7"
      }
    },
    {
      "cell_type": "markdown",
      "source": [
        "Boston 주택 가격 예측 모델에서 사용되는 데이터셋은 보스턴 시의 주택 가격 데이터셋으로, 주택의 여러 요건과 가격 정보가 포함되어 있습니다.\n",
        "\n",
        "<br>\n",
        "\n",
        "- 데이터셋의 feature에 대한 설명\n",
        "<br>\n",
        "\n",
        "\n",
        "| feature | 설명 |\n",
        "|:---|:---|\n",
        "| CRIM | 자치시별 1인당 범죄율 |\n",
        "| ZN | 25,000 평방피트를 초과하는 거주지역의 비율 |\n",
        "| INDUS | 비소매상업지역이 점유하고 있는 토지의 비율 |\n",
        "| CHAS | 찰스강에 대한 더미변수(강의 경계에 위치한 경우는 1, 아니면 0) |\n",
        "| NOX | 10ppm 당 농축 일산화질소 |\n",
        "| RM | 주택 1가구당 평균 방의 개수 |\n",
        "| AGE | 1940년 이전에 건축된 소유주택의 비율 |\n",
        "| DIS | 5개의 보스턴 직업센터까지의 접근성 지수 |\n",
        "| RAD | 방사형 도로까지의 접근성 지수 |\n",
        "| TAX | 10,000 달러당 재산세율 |\n",
        "| PTRATIO | 자치시(town)별 학생/교사 비율 |\n",
        "| B | $1000(Bk - 0.63)^2$, 여기서Bk는 자치시별 흑인의 비율을 말함 |\n",
        "| LSTAT | 모집단의 하위계층의 비율(%) |\n",
        "| MEDV | 본인 소유의 주택가격(중앙값)(단위: $1,000) |"
      ],
      "metadata": {
        "id": "QLC2vFNq7P98"
      }
    },
    {
      "cell_type": "markdown",
      "source": [
        "데이터 로드 및 전처리\n",
        "___\n",
        "먼저 데이터를 불러와 확인해 보고 전처리를 해 봅시다.\n",
        "데이터셋은 keras.datasets에서 불러올 수 있는 boston_housing 데이터셋을 활용합니다."
      ],
      "metadata": {
        "id": "WfmfK1nv7v-_"
      }
    },
    {
      "cell_type": "code",
      "execution_count": 1,
      "metadata": {
        "id": "U0qRX5cs5u5f"
      },
      "outputs": [],
      "source": [
        "from tensorflow.keras import models, layers\n",
        "import matplotlib.pyplot as plt"
      ]
    },
    {
      "cell_type": "code",
      "source": [
        "# keras.datasets 안에 boston_housing 데이터셋을 로드합니다.\n",
        "from keras.datasets import boston_housing\n",
        "\n",
        "(train_data, train_labels), (test_data, test_labels) = boston_housing.load_data()\n",
        "\n",
        "# 데이터셋의 크기를 확인합니다.\n",
        "print(len(train_data))\n",
        "print(len(test_data))"
      ],
      "metadata": {
        "colab": {
          "base_uri": "https://localhost:8080/"
        },
        "id": "_cifZrMg7ytZ",
        "outputId": "0fc90de5-4f29-4e3a-ee9a-ba4e229346e2"
      },
      "execution_count": 2,
      "outputs": [
        {
          "output_type": "stream",
          "name": "stdout",
          "text": [
            "404\n",
            "102\n"
          ]
        }
      ]
    },
    {
      "cell_type": "markdown",
      "source": [
        "- 데이터셋의 전처리를 위해 표준화 작업을 수행해야 합니다. 아래의 주석을 보고 코드를 작성해 보세요.\n",
        "\n",
        "\n",
        "\n"
      ],
      "metadata": {
        "id": "Q7vdHQIP71Pk"
      }
    },
    {
      "cell_type": "code",
      "source": [
        "# 문제 1-1: 데이터셋의 전처리를 위해 표준화 작업을 수행합니다.\n",
        "# 먼저 입력 데이터의 각 특성의 평균을 뺍니다.\n",
        "mean = train_data.mean(axis=0)\n",
        "train_data_scaled = train_data - mean\n",
        "\n",
        "# 평균을 뺀 입력 데이터에서 표준편차를 나눕니다.\n",
        "# 데이터 특성의 중앙이 0에 가깝게 만들고, 표준편차가 1이 되게 만듭니다.\n",
        "std = train_data.std(axis=0)\n",
        "train_data_scaled = train_data_scaled / std\n",
        "\n",
        "# 테스트 데이터셋도 마찬가지로 평균을 빼고, 표준편차로 나눕니다.\n",
        "test_data_scaled = (test_data - mean) / std"
      ],
      "metadata": {
        "id": "uQwypJaq7z4Y"
      },
      "execution_count": 3,
      "outputs": []
    },
    {
      "cell_type": "markdown",
      "source": [
        "### 모델 구성 및 컴파일\n",
        "___\n",
        "- 주택 가격 예측을 위한 딥러닝 모델을 구성하고 컴파일합니다.  \n",
        "- `Sequential()` 함수를 이용한 Sequential API 방법으로 딥러닝 모델을 구성해 보세요."
      ],
      "metadata": {
        "id": "g2fIsSxk9rPG"
      }
    },
    {
      "cell_type": "code",
      "source": [
        "import random\n",
        "import numpy as np\n",
        "import tensorflow as tf\n",
        "\n",
        "def set_seed(seed_value):\n",
        "    # 1. 파이썬의 무작위성을 제어\n",
        "    random.seed(seed_value)\n",
        "\n",
        "    # 2. 넘파이의 무작위성을 제어\n",
        "    np.random.seed(seed_value)\n",
        "\n",
        "    # 3. 텐서플로의 무작위성을 제어\n",
        "    tf.random.set_seed(seed_value)\n",
        "\n",
        "# 학습 시작 전에 원하는 시드값으로 함수 호출\n",
        "set_seed(42)"
      ],
      "metadata": {
        "id": "NRYFrBf6RI2x"
      },
      "execution_count": 4,
      "outputs": []
    },
    {
      "cell_type": "code",
      "source": [
        "# 문제 1-2: 주택 가격 예측을 위한 딥러닝 모델 구성 및 컴파일합니다.\n",
        "# input_shape은 (train_data.shape[1], )으로 구성합니다.\n",
        "# 회귀(예측)을 위한 모델이므로 loss를 mse, metrics를 mae로 사용합니다.\n",
        "\n",
        "from tensorflow.keras import optimizers, regularizers\n",
        "import keras\n",
        "from tensorflow.keras.regularizers import l2\n",
        "\n",
        "\n",
        "model = models.Sequential()\n",
        "model.add(keras.Input(shape=(train_data.shape[1], ), name='input'))\n",
        "\n",
        "model.add(layers.Dense(256, activation='relu', name='dense31', kernel_initializer='he_normal', kernel_regularizer=l2(0.0005)))\n",
        "\n",
        "model.add(layers.Dense(128, activation='relu', name='dense21', kernel_initializer='he_normal', kernel_regularizer=l2(0.0005)))\n",
        "\n",
        "model.add(layers.Dense(64, activation='relu', name='dense11', kernel_initializer='he_normal', kernel_regularizer=l2(0.0005)))\n",
        "\n",
        "model.add(layers.Dense(1, activation='linear', name='output'))\n",
        "\n",
        "model.summary()\n",
        "\n",
        "model.compile(loss='mse',\n",
        "              optimizer=optimizers.Adam(learning_rate=0.0005),\n",
        "              metrics=['mae'])"
      ],
      "metadata": {
        "colab": {
          "base_uri": "https://localhost:8080/",
          "height": 262
        },
        "id": "pobaAEVD8asQ",
        "outputId": "f2e3d993-b15d-49d2-f538-a9d14b9ea142"
      },
      "execution_count": 5,
      "outputs": [
        {
          "output_type": "display_data",
          "data": {
            "text/plain": [
              "\u001b[1mModel: \"sequential\"\u001b[0m\n"
            ],
            "text/html": [
              "<pre style=\"white-space:pre;overflow-x:auto;line-height:normal;font-family:Menlo,'DejaVu Sans Mono',consolas,'Courier New',monospace\"><span style=\"font-weight: bold\">Model: \"sequential\"</span>\n",
              "</pre>\n"
            ]
          },
          "metadata": {}
        },
        {
          "output_type": "display_data",
          "data": {
            "text/plain": [
              "┏━━━━━━━━━━━━━━━━━━━━━━━━━━━━━━━━━┳━━━━━━━━━━━━━━━━━━━━━━━━┳━━━━━━━━━━━━━━━┓\n",
              "┃\u001b[1m \u001b[0m\u001b[1mLayer (type)                   \u001b[0m\u001b[1m \u001b[0m┃\u001b[1m \u001b[0m\u001b[1mOutput Shape          \u001b[0m\u001b[1m \u001b[0m┃\u001b[1m \u001b[0m\u001b[1m      Param #\u001b[0m\u001b[1m \u001b[0m┃\n",
              "┡━━━━━━━━━━━━━━━━━━━━━━━━━━━━━━━━━╇━━━━━━━━━━━━━━━━━━━━━━━━╇━━━━━━━━━━━━━━━┩\n",
              "│ dense31 (\u001b[38;5;33mDense\u001b[0m)                 │ (\u001b[38;5;45mNone\u001b[0m, \u001b[38;5;34m256\u001b[0m)            │         \u001b[38;5;34m3,584\u001b[0m │\n",
              "├─────────────────────────────────┼────────────────────────┼───────────────┤\n",
              "│ dense21 (\u001b[38;5;33mDense\u001b[0m)                 │ (\u001b[38;5;45mNone\u001b[0m, \u001b[38;5;34m128\u001b[0m)            │        \u001b[38;5;34m32,896\u001b[0m │\n",
              "├─────────────────────────────────┼────────────────────────┼───────────────┤\n",
              "│ dense11 (\u001b[38;5;33mDense\u001b[0m)                 │ (\u001b[38;5;45mNone\u001b[0m, \u001b[38;5;34m64\u001b[0m)             │         \u001b[38;5;34m8,256\u001b[0m │\n",
              "├─────────────────────────────────┼────────────────────────┼───────────────┤\n",
              "│ output (\u001b[38;5;33mDense\u001b[0m)                  │ (\u001b[38;5;45mNone\u001b[0m, \u001b[38;5;34m1\u001b[0m)              │            \u001b[38;5;34m65\u001b[0m │\n",
              "└─────────────────────────────────┴────────────────────────┴───────────────┘\n"
            ],
            "text/html": [
              "<pre style=\"white-space:pre;overflow-x:auto;line-height:normal;font-family:Menlo,'DejaVu Sans Mono',consolas,'Courier New',monospace\">┏━━━━━━━━━━━━━━━━━━━━━━━━━━━━━━━━━┳━━━━━━━━━━━━━━━━━━━━━━━━┳━━━━━━━━━━━━━━━┓\n",
              "┃<span style=\"font-weight: bold\"> Layer (type)                    </span>┃<span style=\"font-weight: bold\"> Output Shape           </span>┃<span style=\"font-weight: bold\">       Param # </span>┃\n",
              "┡━━━━━━━━━━━━━━━━━━━━━━━━━━━━━━━━━╇━━━━━━━━━━━━━━━━━━━━━━━━╇━━━━━━━━━━━━━━━┩\n",
              "│ dense31 (<span style=\"color: #0087ff; text-decoration-color: #0087ff\">Dense</span>)                 │ (<span style=\"color: #00d7ff; text-decoration-color: #00d7ff\">None</span>, <span style=\"color: #00af00; text-decoration-color: #00af00\">256</span>)            │         <span style=\"color: #00af00; text-decoration-color: #00af00\">3,584</span> │\n",
              "├─────────────────────────────────┼────────────────────────┼───────────────┤\n",
              "│ dense21 (<span style=\"color: #0087ff; text-decoration-color: #0087ff\">Dense</span>)                 │ (<span style=\"color: #00d7ff; text-decoration-color: #00d7ff\">None</span>, <span style=\"color: #00af00; text-decoration-color: #00af00\">128</span>)            │        <span style=\"color: #00af00; text-decoration-color: #00af00\">32,896</span> │\n",
              "├─────────────────────────────────┼────────────────────────┼───────────────┤\n",
              "│ dense11 (<span style=\"color: #0087ff; text-decoration-color: #0087ff\">Dense</span>)                 │ (<span style=\"color: #00d7ff; text-decoration-color: #00d7ff\">None</span>, <span style=\"color: #00af00; text-decoration-color: #00af00\">64</span>)             │         <span style=\"color: #00af00; text-decoration-color: #00af00\">8,256</span> │\n",
              "├─────────────────────────────────┼────────────────────────┼───────────────┤\n",
              "│ output (<span style=\"color: #0087ff; text-decoration-color: #0087ff\">Dense</span>)                  │ (<span style=\"color: #00d7ff; text-decoration-color: #00d7ff\">None</span>, <span style=\"color: #00af00; text-decoration-color: #00af00\">1</span>)              │            <span style=\"color: #00af00; text-decoration-color: #00af00\">65</span> │\n",
              "└─────────────────────────────────┴────────────────────────┴───────────────┘\n",
              "</pre>\n"
            ]
          },
          "metadata": {}
        },
        {
          "output_type": "display_data",
          "data": {
            "text/plain": [
              "\u001b[1m Total params: \u001b[0m\u001b[38;5;34m44,801\u001b[0m (175.00 KB)\n"
            ],
            "text/html": [
              "<pre style=\"white-space:pre;overflow-x:auto;line-height:normal;font-family:Menlo,'DejaVu Sans Mono',consolas,'Courier New',monospace\"><span style=\"font-weight: bold\"> Total params: </span><span style=\"color: #00af00; text-decoration-color: #00af00\">44,801</span> (175.00 KB)\n",
              "</pre>\n"
            ]
          },
          "metadata": {}
        },
        {
          "output_type": "display_data",
          "data": {
            "text/plain": [
              "\u001b[1m Trainable params: \u001b[0m\u001b[38;5;34m44,801\u001b[0m (175.00 KB)\n"
            ],
            "text/html": [
              "<pre style=\"white-space:pre;overflow-x:auto;line-height:normal;font-family:Menlo,'DejaVu Sans Mono',consolas,'Courier New',monospace\"><span style=\"font-weight: bold\"> Trainable params: </span><span style=\"color: #00af00; text-decoration-color: #00af00\">44,801</span> (175.00 KB)\n",
              "</pre>\n"
            ]
          },
          "metadata": {}
        },
        {
          "output_type": "display_data",
          "data": {
            "text/plain": [
              "\u001b[1m Non-trainable params: \u001b[0m\u001b[38;5;34m0\u001b[0m (0.00 B)\n"
            ],
            "text/html": [
              "<pre style=\"white-space:pre;overflow-x:auto;line-height:normal;font-family:Menlo,'DejaVu Sans Mono',consolas,'Courier New',monospace\"><span style=\"font-weight: bold\"> Non-trainable params: </span><span style=\"color: #00af00; text-decoration-color: #00af00\">0</span> (0.00 B)\n",
              "</pre>\n"
            ]
          },
          "metadata": {}
        }
      ]
    },
    {
      "cell_type": "markdown",
      "source": [
        "모델 학습\n",
        "___\n",
        "- epochs와 batch size는 자유롭게 설정해 보세요. 모델 학습 후에는 모델 학습 결과를 시각화해 보세요."
      ],
      "metadata": {
        "id": "VAkXZIp7_7MH"
      }
    },
    {
      "cell_type": "code",
      "source": [
        "# train, validation set split\n",
        "from sklearn.model_selection import train_test_split\n",
        "\n",
        "x_train, x_val, y_train, y_val = train_test_split(train_data_scaled, train_labels,\n",
        "                                                  test_size=0.3,\n",
        "                                                  random_state=123)"
      ],
      "metadata": {
        "id": "JKSi33qIGG2T"
      },
      "execution_count": 6,
      "outputs": []
    },
    {
      "cell_type": "code",
      "source": [
        "from tensorflow.keras import callbacks\n",
        "\n",
        "check_point_cb = callbacks.ModelCheckpoint('boston_housing_model.keras',\n",
        "                                           save_best_only=True)\n",
        "\n",
        "early_stopping_cb = callbacks.EarlyStopping(patience=10,\n",
        "                                            monitor='val_loss',\n",
        "                                            restore_best_weights=True)\n",
        "\n",
        "history = model.fit(x_train, y_train,\n",
        "                    epochs=200,\n",
        "                    batch_size=64,\n",
        "                    validation_data=(x_val, y_val),\n",
        "                    callbacks=[check_point_cb, early_stopping_cb])"
      ],
      "metadata": {
        "colab": {
          "base_uri": "https://localhost:8080/"
        },
        "collapsed": true,
        "id": "wkTGJx3Q_GEP",
        "outputId": "f1e8b5b7-1a59-4441-f7f2-e2da35d4ebe1"
      },
      "execution_count": 7,
      "outputs": [
        {
          "output_type": "stream",
          "name": "stdout",
          "text": [
            "Epoch 1/200\n",
            "\u001b[1m5/5\u001b[0m \u001b[32m━━━━━━━━━━━━━━━━━━━━\u001b[0m\u001b[37m\u001b[0m \u001b[1m5s\u001b[0m 487ms/step - loss: 454.0789 - mae: 19.1098 - val_loss: 438.2077 - val_mae: 18.5159\n",
            "Epoch 2/200\n",
            "\u001b[1m5/5\u001b[0m \u001b[32m━━━━━━━━━━━━━━━━━━━━\u001b[0m\u001b[37m\u001b[0m \u001b[1m2s\u001b[0m 24ms/step - loss: 353.8611 - mae: 16.3850 - val_loss: 326.9219 - val_mae: 15.4992\n",
            "Epoch 3/200\n",
            "\u001b[1m5/5\u001b[0m \u001b[32m━━━━━━━━━━━━━━━━━━━━\u001b[0m\u001b[37m\u001b[0m \u001b[1m0s\u001b[0m 22ms/step - loss: 258.8919 - mae: 13.5895 - val_loss: 225.0967 - val_mae: 12.5535\n",
            "Epoch 4/200\n",
            "\u001b[1m5/5\u001b[0m \u001b[32m━━━━━━━━━━━━━━━━━━━━\u001b[0m\u001b[37m\u001b[0m \u001b[1m0s\u001b[0m 22ms/step - loss: 176.8064 - mae: 10.9298 - val_loss: 142.9048 - val_mae: 9.8780\n",
            "Epoch 5/200\n",
            "\u001b[1m5/5\u001b[0m \u001b[32m━━━━━━━━━━━━━━━━━━━━\u001b[0m\u001b[37m\u001b[0m \u001b[1m0s\u001b[0m 23ms/step - loss: 115.9296 - mae: 8.6441 - val_loss: 87.0057 - val_mae: 7.5628\n",
            "Epoch 6/200\n",
            "\u001b[1m5/5\u001b[0m \u001b[32m━━━━━━━━━━━━━━━━━━━━\u001b[0m\u001b[37m\u001b[0m \u001b[1m0s\u001b[0m 23ms/step - loss: 78.8035 - mae: 6.9075 - val_loss: 58.1803 - val_mae: 5.9868\n",
            "Epoch 7/200\n",
            "\u001b[1m5/5\u001b[0m \u001b[32m━━━━━━━━━━━━━━━━━━━━\u001b[0m\u001b[37m\u001b[0m \u001b[1m0s\u001b[0m 24ms/step - loss: 61.2665 - mae: 6.0008 - val_loss: 46.3292 - val_mae: 5.3659\n",
            "Epoch 8/200\n",
            "\u001b[1m5/5\u001b[0m \u001b[32m━━━━━━━━━━━━━━━━━━━━\u001b[0m\u001b[37m\u001b[0m \u001b[1m0s\u001b[0m 23ms/step - loss: 52.3859 - mae: 5.4359 - val_loss: 38.9575 - val_mae: 4.7777\n",
            "Epoch 9/200\n",
            "\u001b[1m5/5\u001b[0m \u001b[32m━━━━━━━━━━━━━━━━━━━━\u001b[0m\u001b[37m\u001b[0m \u001b[1m0s\u001b[0m 23ms/step - loss: 44.4358 - mae: 4.8925 - val_loss: 32.7086 - val_mae: 4.3064\n",
            "Epoch 10/200\n",
            "\u001b[1m5/5\u001b[0m \u001b[32m━━━━━━━━━━━━━━━━━━━━\u001b[0m\u001b[37m\u001b[0m \u001b[1m0s\u001b[0m 24ms/step - loss: 37.5401 - mae: 4.4404 - val_loss: 28.0754 - val_mae: 3.9499\n",
            "Epoch 11/200\n",
            "\u001b[1m5/5\u001b[0m \u001b[32m━━━━━━━━━━━━━━━━━━━━\u001b[0m\u001b[37m\u001b[0m \u001b[1m0s\u001b[0m 22ms/step - loss: 32.4613 - mae: 4.0957 - val_loss: 24.1645 - val_mae: 3.6098\n",
            "Epoch 12/200\n",
            "\u001b[1m5/5\u001b[0m \u001b[32m━━━━━━━━━━━━━━━━━━━━\u001b[0m\u001b[37m\u001b[0m \u001b[1m0s\u001b[0m 23ms/step - loss: 28.1372 - mae: 3.7876 - val_loss: 20.6346 - val_mae: 3.3136\n",
            "Epoch 13/200\n",
            "\u001b[1m5/5\u001b[0m \u001b[32m━━━━━━━━━━━━━━━━━━━━\u001b[0m\u001b[37m\u001b[0m \u001b[1m0s\u001b[0m 22ms/step - loss: 24.4294 - mae: 3.5048 - val_loss: 18.2436 - val_mae: 3.1616\n",
            "Epoch 14/200\n",
            "\u001b[1m5/5\u001b[0m \u001b[32m━━━━━━━━━━━━━━━━━━━━\u001b[0m\u001b[37m\u001b[0m \u001b[1m0s\u001b[0m 22ms/step - loss: 21.9654 - mae: 3.3292 - val_loss: 17.1217 - val_mae: 3.1206\n",
            "Epoch 15/200\n",
            "\u001b[1m5/5\u001b[0m \u001b[32m━━━━━━━━━━━━━━━━━━━━\u001b[0m\u001b[37m\u001b[0m \u001b[1m0s\u001b[0m 23ms/step - loss: 20.5190 - mae: 3.2281 - val_loss: 16.4029 - val_mae: 3.0513\n",
            "Epoch 16/200\n",
            "\u001b[1m5/5\u001b[0m \u001b[32m━━━━━━━━━━━━━━━━━━━━\u001b[0m\u001b[37m\u001b[0m \u001b[1m0s\u001b[0m 23ms/step - loss: 19.2953 - mae: 3.1093 - val_loss: 15.6923 - val_mae: 2.9658\n",
            "Epoch 17/200\n",
            "\u001b[1m5/5\u001b[0m \u001b[32m━━━━━━━━━━━━━━━━━━━━\u001b[0m\u001b[37m\u001b[0m \u001b[1m0s\u001b[0m 23ms/step - loss: 18.1598 - mae: 2.9755 - val_loss: 15.1662 - val_mae: 2.9055\n",
            "Epoch 18/200\n",
            "\u001b[1m5/5\u001b[0m \u001b[32m━━━━━━━━━━━━━━━━━━━━\u001b[0m\u001b[37m\u001b[0m \u001b[1m0s\u001b[0m 23ms/step - loss: 17.3042 - mae: 2.8668 - val_loss: 14.8091 - val_mae: 2.8627\n",
            "Epoch 19/200\n",
            "\u001b[1m5/5\u001b[0m \u001b[32m━━━━━━━━━━━━━━━━━━━━\u001b[0m\u001b[37m\u001b[0m \u001b[1m0s\u001b[0m 24ms/step - loss: 16.6743 - mae: 2.8035 - val_loss: 14.5279 - val_mae: 2.8273\n",
            "Epoch 20/200\n",
            "\u001b[1m5/5\u001b[0m \u001b[32m━━━━━━━━━━━━━━━━━━━━\u001b[0m\u001b[37m\u001b[0m \u001b[1m0s\u001b[0m 23ms/step - loss: 16.1687 - mae: 2.7639 - val_loss: 14.2613 - val_mae: 2.8013\n",
            "Epoch 21/200\n",
            "\u001b[1m5/5\u001b[0m \u001b[32m━━━━━━━━━━━━━━━━━━━━\u001b[0m\u001b[37m\u001b[0m \u001b[1m0s\u001b[0m 23ms/step - loss: 15.7217 - mae: 2.7320 - val_loss: 13.9341 - val_mae: 2.7687\n",
            "Epoch 22/200\n",
            "\u001b[1m5/5\u001b[0m \u001b[32m━━━━━━━━━━━━━━━━━━━━\u001b[0m\u001b[37m\u001b[0m \u001b[1m0s\u001b[0m 23ms/step - loss: 15.2873 - mae: 2.6959 - val_loss: 13.5595 - val_mae: 2.7293\n",
            "Epoch 23/200\n",
            "\u001b[1m5/5\u001b[0m \u001b[32m━━━━━━━━━━━━━━━━━━━━\u001b[0m\u001b[37m\u001b[0m \u001b[1m0s\u001b[0m 23ms/step - loss: 14.8701 - mae: 2.6571 - val_loss: 13.2135 - val_mae: 2.6935\n",
            "Epoch 24/200\n",
            "\u001b[1m5/5\u001b[0m \u001b[32m━━━━━━━━━━━━━━━━━━━━\u001b[0m\u001b[37m\u001b[0m \u001b[1m0s\u001b[0m 26ms/step - loss: 14.5002 - mae: 2.6219 - val_loss: 12.9285 - val_mae: 2.6665\n",
            "Epoch 25/200\n",
            "\u001b[1m5/5\u001b[0m \u001b[32m━━━━━━━━━━━━━━━━━━━━\u001b[0m\u001b[37m\u001b[0m \u001b[1m0s\u001b[0m 23ms/step - loss: 14.1687 - mae: 2.5928 - val_loss: 12.6933 - val_mae: 2.6470\n",
            "Epoch 26/200\n",
            "\u001b[1m5/5\u001b[0m \u001b[32m━━━━━━━━━━━━━━━━━━━━\u001b[0m\u001b[37m\u001b[0m \u001b[1m0s\u001b[0m 23ms/step - loss: 13.8638 - mae: 2.5661 - val_loss: 12.4711 - val_mae: 2.6298\n",
            "Epoch 27/200\n",
            "\u001b[1m5/5\u001b[0m \u001b[32m━━━━━━━━━━━━━━━━━━━━\u001b[0m\u001b[37m\u001b[0m \u001b[1m0s\u001b[0m 24ms/step - loss: 13.5752 - mae: 2.5403 - val_loss: 12.2405 - val_mae: 2.6092\n",
            "Epoch 28/200\n",
            "\u001b[1m5/5\u001b[0m \u001b[32m━━━━━━━━━━━━━━━━━━━━\u001b[0m\u001b[37m\u001b[0m \u001b[1m0s\u001b[0m 23ms/step - loss: 13.2958 - mae: 2.5141 - val_loss: 12.0126 - val_mae: 2.5873\n",
            "Epoch 29/200\n",
            "\u001b[1m5/5\u001b[0m \u001b[32m━━━━━━━━━━━━━━━━━━━━\u001b[0m\u001b[37m\u001b[0m \u001b[1m0s\u001b[0m 23ms/step - loss: 13.0154 - mae: 2.4876 - val_loss: 11.8159 - val_mae: 2.5700\n",
            "Epoch 30/200\n",
            "\u001b[1m5/5\u001b[0m \u001b[32m━━━━━━━━━━━━━━━━━━━━\u001b[0m\u001b[37m\u001b[0m \u001b[1m0s\u001b[0m 24ms/step - loss: 12.7497 - mae: 2.4638 - val_loss: 11.6455 - val_mae: 2.5562\n",
            "Epoch 31/200\n",
            "\u001b[1m5/5\u001b[0m \u001b[32m━━━━━━━━━━━━━━━━━━━━\u001b[0m\u001b[37m\u001b[0m \u001b[1m0s\u001b[0m 23ms/step - loss: 12.5057 - mae: 2.4419 - val_loss: 11.4815 - val_mae: 2.5412\n",
            "Epoch 32/200\n",
            "\u001b[1m5/5\u001b[0m \u001b[32m━━━━━━━━━━━━━━━━━━━━\u001b[0m\u001b[37m\u001b[0m \u001b[1m0s\u001b[0m 24ms/step - loss: 12.2760 - mae: 2.4216 - val_loss: 11.3210 - val_mae: 2.5239\n",
            "Epoch 33/200\n",
            "\u001b[1m5/5\u001b[0m \u001b[32m━━━━━━━━━━━━━━━━━━━━\u001b[0m\u001b[37m\u001b[0m \u001b[1m0s\u001b[0m 27ms/step - loss: 12.0521 - mae: 2.4004 - val_loss: 11.1628 - val_mae: 2.5071\n",
            "Epoch 34/200\n",
            "\u001b[1m5/5\u001b[0m \u001b[32m━━━━━━━━━━━━━━━━━━━━\u001b[0m\u001b[37m\u001b[0m \u001b[1m0s\u001b[0m 25ms/step - loss: 11.8353 - mae: 2.3786 - val_loss: 11.0144 - val_mae: 2.4920\n",
            "Epoch 35/200\n",
            "\u001b[1m5/5\u001b[0m \u001b[32m━━━━━━━━━━━━━━━━━━━━\u001b[0m\u001b[37m\u001b[0m \u001b[1m0s\u001b[0m 23ms/step - loss: 11.6296 - mae: 2.3573 - val_loss: 10.8871 - val_mae: 2.4783\n",
            "Epoch 36/200\n",
            "\u001b[1m5/5\u001b[0m \u001b[32m━━━━━━━━━━━━━━━━━━━━\u001b[0m\u001b[37m\u001b[0m \u001b[1m0s\u001b[0m 23ms/step - loss: 11.4328 - mae: 2.3374 - val_loss: 10.7692 - val_mae: 2.4645\n",
            "Epoch 37/200\n",
            "\u001b[1m5/5\u001b[0m \u001b[32m━━━━━━━━━━━━━━━━━━━━\u001b[0m\u001b[37m\u001b[0m \u001b[1m0s\u001b[0m 23ms/step - loss: 11.2367 - mae: 2.3192 - val_loss: 10.6467 - val_mae: 2.4495\n",
            "Epoch 38/200\n",
            "\u001b[1m5/5\u001b[0m \u001b[32m━━━━━━━━━━━━━━━━━━━━\u001b[0m\u001b[37m\u001b[0m \u001b[1m0s\u001b[0m 23ms/step - loss: 11.0501 - mae: 2.3008 - val_loss: 10.5485 - val_mae: 2.4367\n",
            "Epoch 39/200\n",
            "\u001b[1m5/5\u001b[0m \u001b[32m━━━━━━━━━━━━━━━━━━━━\u001b[0m\u001b[37m\u001b[0m \u001b[1m0s\u001b[0m 23ms/step - loss: 10.8760 - mae: 2.2836 - val_loss: 10.4548 - val_mae: 2.4260\n",
            "Epoch 40/200\n",
            "\u001b[1m5/5\u001b[0m \u001b[32m━━━━━━━━━━━━━━━━━━━━\u001b[0m\u001b[37m\u001b[0m \u001b[1m0s\u001b[0m 22ms/step - loss: 10.7068 - mae: 2.2668 - val_loss: 10.3635 - val_mae: 2.4152\n",
            "Epoch 41/200\n",
            "\u001b[1m5/5\u001b[0m \u001b[32m━━━━━━━━━━━━━━━━━━━━\u001b[0m\u001b[37m\u001b[0m \u001b[1m0s\u001b[0m 24ms/step - loss: 10.5346 - mae: 2.2489 - val_loss: 10.2815 - val_mae: 2.4058\n",
            "Epoch 42/200\n",
            "\u001b[1m5/5\u001b[0m \u001b[32m━━━━━━━━━━━━━━━━━━━━\u001b[0m\u001b[37m\u001b[0m \u001b[1m0s\u001b[0m 24ms/step - loss: 10.3660 - mae: 2.2318 - val_loss: 10.2093 - val_mae: 2.3969\n",
            "Epoch 43/200\n",
            "\u001b[1m5/5\u001b[0m \u001b[32m━━━━━━━━━━━━━━━━━━━━\u001b[0m\u001b[37m\u001b[0m \u001b[1m0s\u001b[0m 23ms/step - loss: 10.2031 - mae: 2.2150 - val_loss: 10.1411 - val_mae: 2.3868\n",
            "Epoch 44/200\n",
            "\u001b[1m5/5\u001b[0m \u001b[32m━━━━━━━━━━━━━━━━━━━━\u001b[0m\u001b[37m\u001b[0m \u001b[1m0s\u001b[0m 23ms/step - loss: 10.0357 - mae: 2.1961 - val_loss: 10.0663 - val_mae: 2.3766\n",
            "Epoch 45/200\n",
            "\u001b[1m5/5\u001b[0m \u001b[32m━━━━━━━━━━━━━━━━━━━━\u001b[0m\u001b[37m\u001b[0m \u001b[1m0s\u001b[0m 23ms/step - loss: 9.8787 - mae: 2.1780 - val_loss: 10.0011 - val_mae: 2.3687\n",
            "Epoch 46/200\n",
            "\u001b[1m5/5\u001b[0m \u001b[32m━━━━━━━━━━━━━━━━━━━━\u001b[0m\u001b[37m\u001b[0m \u001b[1m0s\u001b[0m 22ms/step - loss: 9.7286 - mae: 2.1609 - val_loss: 9.9456 - val_mae: 2.3616\n",
            "Epoch 47/200\n",
            "\u001b[1m5/5\u001b[0m \u001b[32m━━━━━━━━━━━━━━━━━━━━\u001b[0m\u001b[37m\u001b[0m \u001b[1m0s\u001b[0m 23ms/step - loss: 9.5826 - mae: 2.1456 - val_loss: 9.8882 - val_mae: 2.3544\n",
            "Epoch 48/200\n",
            "\u001b[1m5/5\u001b[0m \u001b[32m━━━━━━━━━━━━━━━━━━━━\u001b[0m\u001b[37m\u001b[0m \u001b[1m0s\u001b[0m 22ms/step - loss: 9.4430 - mae: 2.1324 - val_loss: 9.8476 - val_mae: 2.3491\n",
            "Epoch 49/200\n",
            "\u001b[1m5/5\u001b[0m \u001b[32m━━━━━━━━━━━━━━━━━━━━\u001b[0m\u001b[37m\u001b[0m \u001b[1m0s\u001b[0m 23ms/step - loss: 9.2992 - mae: 2.1161 - val_loss: 9.8133 - val_mae: 2.3454\n",
            "Epoch 50/200\n",
            "\u001b[1m5/5\u001b[0m \u001b[32m━━━━━━━━━━━━━━━━━━━━\u001b[0m\u001b[37m\u001b[0m \u001b[1m0s\u001b[0m 26ms/step - loss: 9.1697 - mae: 2.1016 - val_loss: 9.7816 - val_mae: 2.3424\n",
            "Epoch 51/200\n",
            "\u001b[1m5/5\u001b[0m \u001b[32m━━━━━━━━━━━━━━━━━━━━\u001b[0m\u001b[37m\u001b[0m \u001b[1m0s\u001b[0m 24ms/step - loss: 9.0465 - mae: 2.0887 - val_loss: 9.7655 - val_mae: 2.3409\n",
            "Epoch 52/200\n",
            "\u001b[1m5/5\u001b[0m \u001b[32m━━━━━━━━━━━━━━━━━━━━\u001b[0m\u001b[37m\u001b[0m \u001b[1m0s\u001b[0m 23ms/step - loss: 8.9223 - mae: 2.0744 - val_loss: 9.7448 - val_mae: 2.3391\n",
            "Epoch 53/200\n",
            "\u001b[1m5/5\u001b[0m \u001b[32m━━━━━━━━━━━━━━━━━━━━\u001b[0m\u001b[37m\u001b[0m \u001b[1m0s\u001b[0m 23ms/step - loss: 8.7995 - mae: 2.0593 - val_loss: 9.7126 - val_mae: 2.3350\n",
            "Epoch 54/200\n",
            "\u001b[1m5/5\u001b[0m \u001b[32m━━━━━━━━━━━━━━━━━━━━\u001b[0m\u001b[37m\u001b[0m \u001b[1m0s\u001b[0m 23ms/step - loss: 8.6786 - mae: 2.0438 - val_loss: 9.6964 - val_mae: 2.3318\n",
            "Epoch 55/200\n",
            "\u001b[1m5/5\u001b[0m \u001b[32m━━━━━━━━━━━━━━━━━━━━\u001b[0m\u001b[37m\u001b[0m \u001b[1m0s\u001b[0m 23ms/step - loss: 8.5585 - mae: 2.0290 - val_loss: 9.6774 - val_mae: 2.3286\n",
            "Epoch 56/200\n",
            "\u001b[1m5/5\u001b[0m \u001b[32m━━━━━━━━━━━━━━━━━━━━\u001b[0m\u001b[37m\u001b[0m \u001b[1m0s\u001b[0m 23ms/step - loss: 8.4441 - mae: 2.0151 - val_loss: 9.6426 - val_mae: 2.3242\n",
            "Epoch 57/200\n",
            "\u001b[1m5/5\u001b[0m \u001b[32m━━━━━━━━━━━━━━━━━━━━\u001b[0m\u001b[37m\u001b[0m \u001b[1m0s\u001b[0m 23ms/step - loss: 8.3314 - mae: 2.0016 - val_loss: 9.6080 - val_mae: 2.3199\n",
            "Epoch 58/200\n",
            "\u001b[1m5/5\u001b[0m \u001b[32m━━━━━━━━━━━━━━━━━━━━\u001b[0m\u001b[37m\u001b[0m \u001b[1m0s\u001b[0m 23ms/step - loss: 8.2227 - mae: 1.9875 - val_loss: 9.5986 - val_mae: 2.3191\n",
            "Epoch 59/200\n",
            "\u001b[1m5/5\u001b[0m \u001b[32m━━━━━━━━━━━━━━━━━━━━\u001b[0m\u001b[37m\u001b[0m \u001b[1m0s\u001b[0m 29ms/step - loss: 8.1206 - mae: 1.9760 - val_loss: 9.5829 - val_mae: 2.3177\n",
            "Epoch 60/200\n",
            "\u001b[1m5/5\u001b[0m \u001b[32m━━━━━━━━━━━━━━━━━━━━\u001b[0m\u001b[37m\u001b[0m \u001b[1m0s\u001b[0m 26ms/step - loss: 8.0144 - mae: 1.9622 - val_loss: 9.5524 - val_mae: 2.3146\n",
            "Epoch 61/200\n",
            "\u001b[1m5/5\u001b[0m \u001b[32m━━━━━━━━━━━━━━━━━━━━\u001b[0m\u001b[37m\u001b[0m \u001b[1m0s\u001b[0m 23ms/step - loss: 7.9130 - mae: 1.9497 - val_loss: 9.5235 - val_mae: 2.3132\n",
            "Epoch 62/200\n",
            "\u001b[1m5/5\u001b[0m \u001b[32m━━━━━━━━━━━━━━━━━━━━\u001b[0m\u001b[37m\u001b[0m \u001b[1m0s\u001b[0m 23ms/step - loss: 7.8054 - mae: 1.9348 - val_loss: 9.5122 - val_mae: 2.3133\n",
            "Epoch 63/200\n",
            "\u001b[1m5/5\u001b[0m \u001b[32m━━━━━━━━━━━━━━━━━━━━\u001b[0m\u001b[37m\u001b[0m \u001b[1m0s\u001b[0m 24ms/step - loss: 7.7091 - mae: 1.9225 - val_loss: 9.4930 - val_mae: 2.3106\n",
            "Epoch 64/200\n",
            "\u001b[1m5/5\u001b[0m \u001b[32m━━━━━━━━━━━━━━━━━━━━\u001b[0m\u001b[37m\u001b[0m \u001b[1m0s\u001b[0m 23ms/step - loss: 7.6151 - mae: 1.9125 - val_loss: 9.4654 - val_mae: 2.3077\n",
            "Epoch 65/200\n",
            "\u001b[1m5/5\u001b[0m \u001b[32m━━━━━━━━━━━━━━━━━━━━\u001b[0m\u001b[37m\u001b[0m \u001b[1m0s\u001b[0m 23ms/step - loss: 7.5137 - mae: 1.8983 - val_loss: 9.4527 - val_mae: 2.3082\n",
            "Epoch 66/200\n",
            "\u001b[1m5/5\u001b[0m \u001b[32m━━━━━━━━━━━━━━━━━━━━\u001b[0m\u001b[37m\u001b[0m \u001b[1m0s\u001b[0m 23ms/step - loss: 7.4150 - mae: 1.8834 - val_loss: 9.4286 - val_mae: 2.3069\n",
            "Epoch 67/200\n",
            "\u001b[1m5/5\u001b[0m \u001b[32m━━━━━━━━━━━━━━━━━━━━\u001b[0m\u001b[37m\u001b[0m \u001b[1m0s\u001b[0m 24ms/step - loss: 7.3224 - mae: 1.8727 - val_loss: 9.4083 - val_mae: 2.3066\n",
            "Epoch 68/200\n",
            "\u001b[1m5/5\u001b[0m \u001b[32m━━━━━━━━━━━━━━━━━━━━\u001b[0m\u001b[37m\u001b[0m \u001b[1m0s\u001b[0m 24ms/step - loss: 7.2300 - mae: 1.8616 - val_loss: 9.3797 - val_mae: 2.3039\n",
            "Epoch 69/200\n",
            "\u001b[1m5/5\u001b[0m \u001b[32m━━━━━━━━━━━━━━━━━━━━\u001b[0m\u001b[37m\u001b[0m \u001b[1m0s\u001b[0m 23ms/step - loss: 7.1312 - mae: 1.8491 - val_loss: 9.3554 - val_mae: 2.3010\n",
            "Epoch 70/200\n",
            "\u001b[1m5/5\u001b[0m \u001b[32m━━━━━━━━━━━━━━━━━━━━\u001b[0m\u001b[37m\u001b[0m \u001b[1m0s\u001b[0m 22ms/step - loss: 7.0381 - mae: 1.8363 - val_loss: 9.3358 - val_mae: 2.2994\n",
            "Epoch 71/200\n",
            "\u001b[1m5/5\u001b[0m \u001b[32m━━━━━━━━━━━━━━━━━━━━\u001b[0m\u001b[37m\u001b[0m \u001b[1m0s\u001b[0m 23ms/step - loss: 6.9527 - mae: 1.8259 - val_loss: 9.3098 - val_mae: 2.2972\n",
            "Epoch 72/200\n",
            "\u001b[1m5/5\u001b[0m \u001b[32m━━━━━━━━━━━━━━━━━━━━\u001b[0m\u001b[37m\u001b[0m \u001b[1m0s\u001b[0m 24ms/step - loss: 6.8583 - mae: 1.8146 - val_loss: 9.2873 - val_mae: 2.2955\n",
            "Epoch 73/200\n",
            "\u001b[1m5/5\u001b[0m \u001b[32m━━━━━━━━━━━━━━━━━━━━\u001b[0m\u001b[37m\u001b[0m \u001b[1m0s\u001b[0m 23ms/step - loss: 6.7694 - mae: 1.8021 - val_loss: 9.2694 - val_mae: 2.2936\n",
            "Epoch 74/200\n",
            "\u001b[1m5/5\u001b[0m \u001b[32m━━━━━━━━━━━━━━━━━━━━\u001b[0m\u001b[37m\u001b[0m \u001b[1m0s\u001b[0m 23ms/step - loss: 6.6808 - mae: 1.7912 - val_loss: 9.2382 - val_mae: 2.2905\n",
            "Epoch 75/200\n",
            "\u001b[1m5/5\u001b[0m \u001b[32m━━━━━━━━━━━━━━━━━━━━\u001b[0m\u001b[37m\u001b[0m \u001b[1m0s\u001b[0m 24ms/step - loss: 6.5870 - mae: 1.7787 - val_loss: 9.2029 - val_mae: 2.2870\n",
            "Epoch 76/200\n",
            "\u001b[1m5/5\u001b[0m \u001b[32m━━━━━━━━━━━━━━━━━━━━\u001b[0m\u001b[37m\u001b[0m \u001b[1m0s\u001b[0m 26ms/step - loss: 6.4970 - mae: 1.7660 - val_loss: 9.1827 - val_mae: 2.2857\n",
            "Epoch 77/200\n",
            "\u001b[1m5/5\u001b[0m \u001b[32m━━━━━━━━━━━━━━━━━━━━\u001b[0m\u001b[37m\u001b[0m \u001b[1m0s\u001b[0m 43ms/step - loss: 6.4175 - mae: 1.7559 - val_loss: 9.1745 - val_mae: 2.2854\n",
            "Epoch 78/200\n",
            "\u001b[1m5/5\u001b[0m \u001b[32m━━━━━━━━━━━━━━━━━━━━\u001b[0m\u001b[37m\u001b[0m \u001b[1m0s\u001b[0m 32ms/step - loss: 6.3297 - mae: 1.7449 - val_loss: 9.1465 - val_mae: 2.2838\n",
            "Epoch 79/200\n",
            "\u001b[1m5/5\u001b[0m \u001b[32m━━━━━━━━━━━━━━━━━━━━\u001b[0m\u001b[37m\u001b[0m \u001b[1m0s\u001b[0m 31ms/step - loss: 6.2353 - mae: 1.7319 - val_loss: 9.1308 - val_mae: 2.2827\n",
            "Epoch 80/200\n",
            "\u001b[1m5/5\u001b[0m \u001b[32m━━━━━━━━━━━━━━━━━━━━\u001b[0m\u001b[37m\u001b[0m \u001b[1m0s\u001b[0m 41ms/step - loss: 6.1503 - mae: 1.7207 - val_loss: 9.1105 - val_mae: 2.2812\n",
            "Epoch 81/200\n",
            "\u001b[1m5/5\u001b[0m \u001b[32m━━━━━━━━━━━━━━━━━━━━\u001b[0m\u001b[37m\u001b[0m \u001b[1m0s\u001b[0m 41ms/step - loss: 6.0635 - mae: 1.7100 - val_loss: 9.0964 - val_mae: 2.2815\n",
            "Epoch 82/200\n",
            "\u001b[1m5/5\u001b[0m \u001b[32m━━━━━━━━━━━━━━━━━━━━\u001b[0m\u001b[37m\u001b[0m \u001b[1m0s\u001b[0m 32ms/step - loss: 5.9764 - mae: 1.6994 - val_loss: 9.0778 - val_mae: 2.2805\n",
            "Epoch 83/200\n",
            "\u001b[1m5/5\u001b[0m \u001b[32m━━━━━━━━━━━━━━━━━━━━\u001b[0m\u001b[37m\u001b[0m \u001b[1m0s\u001b[0m 43ms/step - loss: 5.8918 - mae: 1.6876 - val_loss: 9.0695 - val_mae: 2.2796\n",
            "Epoch 84/200\n",
            "\u001b[1m5/5\u001b[0m \u001b[32m━━━━━━━━━━━━━━━━━━━━\u001b[0m\u001b[37m\u001b[0m \u001b[1m0s\u001b[0m 43ms/step - loss: 5.8099 - mae: 1.6747 - val_loss: 9.0510 - val_mae: 2.2779\n",
            "Epoch 85/200\n",
            "\u001b[1m5/5\u001b[0m \u001b[32m━━━━━━━━━━━━━━━━━━━━\u001b[0m\u001b[37m\u001b[0m \u001b[1m0s\u001b[0m 40ms/step - loss: 5.7173 - mae: 1.6615 - val_loss: 9.0271 - val_mae: 2.2768\n",
            "Epoch 86/200\n",
            "\u001b[1m5/5\u001b[0m \u001b[32m━━━━━━━━━━━━━━━━━━━━\u001b[0m\u001b[37m\u001b[0m \u001b[1m0s\u001b[0m 18ms/step - loss: 5.6371 - mae: 1.6508 - val_loss: 9.0398 - val_mae: 2.2794\n",
            "Epoch 87/200\n",
            "\u001b[1m5/5\u001b[0m \u001b[32m━━━━━━━━━━━━━━━━━━━━\u001b[0m\u001b[37m\u001b[0m \u001b[1m0s\u001b[0m 24ms/step - loss: 5.5591 - mae: 1.6391 - val_loss: 9.0268 - val_mae: 2.2787\n",
            "Epoch 88/200\n",
            "\u001b[1m5/5\u001b[0m \u001b[32m━━━━━━━━━━━━━━━━━━━━\u001b[0m\u001b[37m\u001b[0m \u001b[1m0s\u001b[0m 23ms/step - loss: 5.4729 - mae: 1.6246 - val_loss: 8.9848 - val_mae: 2.2748\n",
            "Epoch 89/200\n",
            "\u001b[1m5/5\u001b[0m \u001b[32m━━━━━━━━━━━━━━━━━━━━\u001b[0m\u001b[37m\u001b[0m \u001b[1m0s\u001b[0m 15ms/step - loss: 5.3924 - mae: 1.6132 - val_loss: 8.9889 - val_mae: 2.2753\n",
            "Epoch 90/200\n",
            "\u001b[1m5/5\u001b[0m \u001b[32m━━━━━━━━━━━━━━━━━━━━\u001b[0m\u001b[37m\u001b[0m \u001b[1m0s\u001b[0m 23ms/step - loss: 5.3081 - mae: 1.6007 - val_loss: 8.9821 - val_mae: 2.2740\n",
            "Epoch 91/200\n",
            "\u001b[1m5/5\u001b[0m \u001b[32m━━━━━━━━━━━━━━━━━━━━\u001b[0m\u001b[37m\u001b[0m \u001b[1m0s\u001b[0m 23ms/step - loss: 5.2277 - mae: 1.5885 - val_loss: 8.9638 - val_mae: 2.2742\n",
            "Epoch 92/200\n",
            "\u001b[1m5/5\u001b[0m \u001b[32m━━━━━━━━━━━━━━━━━━━━\u001b[0m\u001b[37m\u001b[0m \u001b[1m0s\u001b[0m 23ms/step - loss: 5.1470 - mae: 1.5763 - val_loss: 8.9398 - val_mae: 2.2706\n",
            "Epoch 93/200\n",
            "\u001b[1m5/5\u001b[0m \u001b[32m━━━━━━━━━━━━━━━━━━━━\u001b[0m\u001b[37m\u001b[0m \u001b[1m0s\u001b[0m 24ms/step - loss: 5.0680 - mae: 1.5625 - val_loss: 8.9380 - val_mae: 2.2722\n",
            "Epoch 94/200\n",
            "\u001b[1m5/5\u001b[0m \u001b[32m━━━━━━━━━━━━━━━━━━━━\u001b[0m\u001b[37m\u001b[0m \u001b[1m0s\u001b[0m 15ms/step - loss: 4.9904 - mae: 1.5491 - val_loss: 8.9520 - val_mae: 2.2758\n",
            "Epoch 95/200\n",
            "\u001b[1m5/5\u001b[0m \u001b[32m━━━━━━━━━━━━━━━━━━━━\u001b[0m\u001b[37m\u001b[0m \u001b[1m0s\u001b[0m 25ms/step - loss: 4.9192 - mae: 1.5370 - val_loss: 8.9171 - val_mae: 2.2723\n",
            "Epoch 96/200\n",
            "\u001b[1m5/5\u001b[0m \u001b[32m━━━━━━━━━━━━━━━━━━━━\u001b[0m\u001b[37m\u001b[0m \u001b[1m0s\u001b[0m 23ms/step - loss: 4.8338 - mae: 1.5235 - val_loss: 8.9120 - val_mae: 2.2755\n",
            "Epoch 97/200\n",
            "\u001b[1m5/5\u001b[0m \u001b[32m━━━━━━━━━━━━━━━━━━━━\u001b[0m\u001b[37m\u001b[0m \u001b[1m0s\u001b[0m 23ms/step - loss: 4.7677 - mae: 1.5112 - val_loss: 8.9078 - val_mae: 2.2748\n",
            "Epoch 98/200\n",
            "\u001b[1m5/5\u001b[0m \u001b[32m━━━━━━━━━━━━━━━━━━━━\u001b[0m\u001b[37m\u001b[0m \u001b[1m0s\u001b[0m 24ms/step - loss: 4.6947 - mae: 1.4977 - val_loss: 8.8657 - val_mae: 2.2685\n",
            "Epoch 99/200\n",
            "\u001b[1m5/5\u001b[0m \u001b[32m━━━━━━━━━━━━━━━━━━━━\u001b[0m\u001b[37m\u001b[0m \u001b[1m0s\u001b[0m 15ms/step - loss: 4.6162 - mae: 1.4837 - val_loss: 8.8885 - val_mae: 2.2719\n",
            "Epoch 100/200\n",
            "\u001b[1m5/5\u001b[0m \u001b[32m━━━━━━━━━━━━━━━━━━━━\u001b[0m\u001b[37m\u001b[0m \u001b[1m0s\u001b[0m 15ms/step - loss: 4.5353 - mae: 1.4704 - val_loss: 8.8870 - val_mae: 2.2732\n",
            "Epoch 101/200\n",
            "\u001b[1m5/5\u001b[0m \u001b[32m━━━━━━━━━━━━━━━━━━━━\u001b[0m\u001b[37m\u001b[0m \u001b[1m0s\u001b[0m 15ms/step - loss: 4.4703 - mae: 1.4579 - val_loss: 8.8674 - val_mae: 2.2734\n",
            "Epoch 102/200\n",
            "\u001b[1m5/5\u001b[0m \u001b[32m━━━━━━━━━━━━━━━━━━━━\u001b[0m\u001b[37m\u001b[0m \u001b[1m0s\u001b[0m 15ms/step - loss: 4.3995 - mae: 1.4457 - val_loss: 8.8864 - val_mae: 2.2774\n",
            "Epoch 103/200\n",
            "\u001b[1m5/5\u001b[0m \u001b[32m━━━━━━━━━━━━━━━━━━━━\u001b[0m\u001b[37m\u001b[0m \u001b[1m0s\u001b[0m 23ms/step - loss: 4.3340 - mae: 1.4350 - val_loss: 8.8657 - val_mae: 2.2756\n",
            "Epoch 104/200\n",
            "\u001b[1m5/5\u001b[0m \u001b[32m━━━━━━━━━━━━━━━━━━━━\u001b[0m\u001b[37m\u001b[0m \u001b[1m0s\u001b[0m 15ms/step - loss: 4.2662 - mae: 1.4223 - val_loss: 8.8720 - val_mae: 2.2778\n",
            "Epoch 105/200\n",
            "\u001b[1m5/5\u001b[0m \u001b[32m━━━━━━━━━━━━━━━━━━━━\u001b[0m\u001b[37m\u001b[0m \u001b[1m0s\u001b[0m 28ms/step - loss: 4.2009 - mae: 1.4095 - val_loss: 8.8843 - val_mae: 2.2802\n",
            "Epoch 106/200\n",
            "\u001b[1m5/5\u001b[0m \u001b[32m━━━━━━━━━━━━━━━━━━━━\u001b[0m\u001b[37m\u001b[0m \u001b[1m0s\u001b[0m 15ms/step - loss: 4.1308 - mae: 1.3972 - val_loss: 8.8785 - val_mae: 2.2797\n",
            "Epoch 107/200\n",
            "\u001b[1m5/5\u001b[0m \u001b[32m━━━━━━━━━━━━━━━━━━━━\u001b[0m\u001b[37m\u001b[0m \u001b[1m0s\u001b[0m 14ms/step - loss: 4.0656 - mae: 1.3854 - val_loss: 8.8818 - val_mae: 2.2815\n",
            "Epoch 108/200\n",
            "\u001b[1m5/5\u001b[0m \u001b[32m━━━━━━━━━━━━━━━━━━━━\u001b[0m\u001b[37m\u001b[0m \u001b[1m0s\u001b[0m 15ms/step - loss: 3.9962 - mae: 1.3719 - val_loss: 8.8853 - val_mae: 2.2818\n",
            "Epoch 109/200\n",
            "\u001b[1m5/5\u001b[0m \u001b[32m━━━━━━━━━━━━━━━━━━━━\u001b[0m\u001b[37m\u001b[0m \u001b[1m0s\u001b[0m 16ms/step - loss: 3.9319 - mae: 1.3593 - val_loss: 8.8932 - val_mae: 2.2825\n",
            "Epoch 110/200\n",
            "\u001b[1m5/5\u001b[0m \u001b[32m━━━━━━━━━━━━━━━━━━━━\u001b[0m\u001b[37m\u001b[0m \u001b[1m0s\u001b[0m 15ms/step - loss: 3.8685 - mae: 1.3484 - val_loss: 8.9279 - val_mae: 2.2881\n",
            "Epoch 111/200\n",
            "\u001b[1m5/5\u001b[0m \u001b[32m━━━━━━━━━━━━━━━━━━━━\u001b[0m\u001b[37m\u001b[0m \u001b[1m0s\u001b[0m 15ms/step - loss: 3.8113 - mae: 1.3384 - val_loss: 8.9290 - val_mae: 2.2910\n",
            "Epoch 112/200\n",
            "\u001b[1m5/5\u001b[0m \u001b[32m━━━━━━━━━━━━━━━━━━━━\u001b[0m\u001b[37m\u001b[0m \u001b[1m0s\u001b[0m 15ms/step - loss: 3.7597 - mae: 1.3275 - val_loss: 8.9374 - val_mae: 2.2930\n",
            "Epoch 113/200\n",
            "\u001b[1m5/5\u001b[0m \u001b[32m━━━━━━━━━━━━━━━━━━━━\u001b[0m\u001b[37m\u001b[0m \u001b[1m0s\u001b[0m 15ms/step - loss: 3.7000 - mae: 1.3161 - val_loss: 8.9564 - val_mae: 2.2961\n"
          ]
        }
      ]
    },
    {
      "cell_type": "code",
      "source": [
        "# 모델 학습 히스토리에서 loss, val_loss, mae, val_mae를 차트로 보여줍니다.\n",
        "plt.style.use('seaborn-v0_8-white')\n",
        "\n",
        "history_dict = history.history\n",
        "\n",
        "loss = history_dict['loss']\n",
        "val_loss = history_dict['val_loss']\n",
        "\n",
        "epochs = range(1, len(loss) + 1)\n",
        "fig = plt.figure(figsize=(12, 5))\n",
        "\n",
        "ax1 = fig.add_subplot(1, 2, 1)\n",
        "ax1.plot(epochs, loss, 'b-', label='train_loss')\n",
        "ax1.plot(epochs, val_loss, 'r-', label='val_loss')\n",
        "ax1.set_title('Train and Validation Loss')\n",
        "ax1.set_xlabel('Epochs')\n",
        "ax1.set_ylabel('Loss')\n",
        "ax1.grid()\n",
        "ax1.legend()\n",
        "\n",
        "mae = history_dict['mae']\n",
        "val_mae = history_dict['val_mae']\n",
        "\n",
        "ax2 = fig.add_subplot(1, 2, 2)\n",
        "ax2.plot(epochs, mae, 'b-', label='train_mae')\n",
        "ax2.plot(epochs, val_mae, 'r-', label='val_mae')\n",
        "ax2.set_title('Train and Validation MAE')\n",
        "ax2.set_xlabel('Epochs')\n",
        "ax2.set_ylabel('Accuracy')\n",
        "ax2.grid()\n",
        "ax2.legend()\n",
        "\n",
        "plt.show()"
      ],
      "metadata": {
        "colab": {
          "base_uri": "https://localhost:8080/",
          "height": 480
        },
        "id": "pTExB_tMBeg-",
        "outputId": "d9e69298-a0a3-4ce7-a13f-2b409a67c565"
      },
      "execution_count": 8,
      "outputs": [
        {
          "output_type": "display_data",
          "data": {
            "text/plain": [
              "<Figure size 1200x500 with 2 Axes>"
            ],
            "image/png": "[encoded data removed]"
          },
          "metadata": {}
        }
      ]
    },
    {
      "cell_type": "markdown",
      "source": [
        "### 모델 평가 및 예측\n",
        "___\n",
        "- 테스트 데이터를 가져와 모델 성능을 평가해 보겠습니다."
      ],
      "metadata": {
        "id": "bo0ibhbKCEcv"
      }
    },
    {
      "cell_type": "code",
      "source": [
        "loss, mae = model.evaluate(test_data_scaled, test_labels)\n",
        "\n",
        "print(f'loss: {loss:.4f}, mae: {mae:.4f}')"
      ],
      "metadata": {
        "colab": {
          "base_uri": "https://localhost:8080/"
        },
        "id": "oP6pqJSnBtmk",
        "outputId": "4f7cf06f-3694-478f-bb19-21b4f63eee49"
      },
      "execution_count": 9,
      "outputs": [
        {
          "output_type": "stream",
          "name": "stdout",
          "text": [
            "\u001b[1m4/4\u001b[0m \u001b[32m━━━━━━━━━━━━━━━━━━━━\u001b[0m\u001b[37m\u001b[0m \u001b[1m1s\u001b[0m 124ms/step - loss: 12.9496 - mae: 2.5359\n",
            "loss: 16.9860, mae: 2.6973\n"
          ]
        }
      ]
    },
    {
      "cell_type": "markdown",
      "source": [
        "튜닝 기록\n",
        "___\n",
        "-  기본 모델--> loss: 27.9092, mae: 4.1520\n",
        "-  튜닝1: 가중치 초기화 + epoch 100회 --> loss: 22.1434, mae: 3.5358\n",
        "-  튜닝2: Dense(128) 추가 --> loss: 24.2412, mae: 3.1803\n",
        "-  튜닝3: Dense(256) 추가 (epoch 32에서 멈춤) --> loss: 21.2450, mae: 3.0838\n",
        "-  튜닝4: adam의 학습률(0.001 --> 0.0005) 수정 --> loss: 18.3352, mae: 2.8381\n",
        "-  튜닝5: adam의 학습률(0.0005 --> 0.0001) 수정 --> loss: 23.1143, mae: 3.1839\n",
        "-  튜닝6: epoch 200회로 수정 --> loss: 21.9760, mae: 3.1944\n",
        "-  튜닝7: adam의 학습률 복구, Dense(32) 추가 --> loss: 25.1144, mae: 3.1834\n",
        "-  튜닝8: 튜닝4의 모델 + 배치크기 조정 (128 --> 64) --> loss: 14.4834, mae: 2.5541\n",
        "    - epoch가 33까지 밖에 수행이 안되었음. 과적합 의심\n",
        "-  튜닝9: 배치 크기 조정 (64 --> 32) --> loss: 21.2122, mae: 2.8870\n",
        "    - epoch가 23까지 밖에 수행이 안되었음. 과적합 의심\n",
        "- 튜닝10: 튜닝8 설정에 dropout(0.2) 추가 --> loss: 23.1143, mae: 3.1777\n",
        "- 튜닝11; dropout 비율 조정(0.2 --> 0.1) --> loss: 21.9758, mae: 3.0056\n",
        "- 튜닝12: dropout 삭제. L2 정규화(0.001) 적용 --> loss: 23.0361, mae: 2.9588\n",
        "- 튜닝13: L2 정규화 강도 조절(0.001 -> 0.0005) --> loss: 16.9860, mae: 2.6973\n",
        "  - 이 결과를 최종모델로 선정하였습니다.\n",
        "\n"
      ],
      "metadata": {
        "id": "E7C50d_FO4T4"
      }
    },
    {
      "cell_type": "markdown",
      "source": [
        "## Reuters 딥러닝 모델"
      ],
      "metadata": {
        "id": "9IdYCNmWSQbf"
      }
    },
    {
      "cell_type": "markdown",
      "source": [
        "이번 스텝에서는 8번 노드에 나왔던 모델과 동일한 모델을 실습합니다. 하지만 다양한 성능 향상 방법을 사용하여 8번 노드에서의 딥러닝 모델보다 성능을 더 높일 수 있습니다.\n",
        "\n",
        "8번 노드에서 사용했던 ReLU와는 다른 활성화함수를 사용해보고, BatchNormalization과 Dropout을 적용해 봅시다. ModelCheckpoint와 EarlyStopping 콜백 함수도 적용해 보세요.\n",
        "\n"
      ],
      "metadata": {
        "id": "LaiT5EIzZdD4"
      }
    },
    {
      "cell_type": "markdown",
      "source": [
        "데이터 로드 및 전처리\n",
        "___\n",
        "- reuters 데이터셋을 로드하고, 훈련 데이터셋에서 25%를 검증 데이터셋으로 분리합니다. 데이터셋은 `keras.datasets`에서 불러올 수 있는 reuters 데이터 셋을 활용하고, 이때 파라메터 조정을 통해 단어의 개수는 10000개로 제한합니다(num_words=10000).\n",
        "- 데이터셋 분리 작업에서는 sklearn 라이브러리의 `train_test_split` 함수를 활용합니다.\n",
        "- 훈련, 검증, 테스트 데이터와 레이블 종류가 몇개인지 출력합니다."
      ],
      "metadata": {
        "id": "yY5_HwPfZhr4"
      }
    },
    {
      "cell_type": "code",
      "source": [
        "import numpy as np\n",
        "import matplotlib.pyplot as plt\n",
        "from sklearn.model_selection import train_test_split\n",
        "\n",
        "from tensorflow.keras import models, layers\n",
        "from tensorflow.keras import callbacks\n",
        "from tensorflow.keras import utils\n",
        "from keras.datasets import reuters"
      ],
      "metadata": {
        "id": "TT-I4-kNKPzA"
      },
      "execution_count": 10,
      "outputs": []
    },
    {
      "cell_type": "code",
      "source": [
        "# 문제 2-1: reuters 데이터셋을 로드하고, 훈련 데이터셋에서 25%를 검증 데이터셋으로 분리합니다.\n",
        "# train/test split\n",
        "(train_data, train_labels), (test_data, test_labels) = reuters.load_data(num_words=10000)\n",
        "\n",
        "# train/val split from train_data\n",
        "split_idx = len(train_data) // 4 *3\n",
        "\n",
        "val_data = train_data[split_idx:]\n",
        "train_data = train_data[:split_idx]\n",
        "\n",
        "val_labels = train_labels[split_idx:]\n",
        "train_labels = train_labels[:split_idx]\n",
        "\n",
        "\n",
        "# 훈련, 검증, 테스트 데이터와 레이블 종류가 몇 개인지 출력합니다.\n",
        "print(len(train_data))\n",
        "print(len(val_data))\n",
        "print(len(test_data))\n",
        "print(len(set(train_labels)))"
      ],
      "metadata": {
        "colab": {
          "base_uri": "https://localhost:8080/"
        },
        "id": "ax4z-mtKZ3ja",
        "outputId": "9d6de8bd-084e-4d5b-ef55-6fbdf639183f"
      },
      "execution_count": 11,
      "outputs": [
        {
          "output_type": "stream",
          "name": "stdout",
          "text": [
            "6735\n",
            "2247\n",
            "2246\n",
            "46\n"
          ]
        }
      ]
    },
    {
      "cell_type": "code",
      "source": [
        "# 문제 2-2: 텍스트 데이터의 전처리를 위해서 각 데이터셋마다 원-핫 인코딩을 수행합니다.\n",
        "from tensorflow.keras import utils\n",
        "\n",
        "def one_hot_encoding(data, dim=10000):\n",
        "  results = np.zeros((len(data), dim))\n",
        "  for i, d in enumerate(data):\n",
        "    results[i, d] = 1.\n",
        "  return results\n",
        "\n",
        "x_train = one_hot_encoding(train_data)\n",
        "x_val = one_hot_encoding(val_data)\n",
        "x_test = one_hot_encoding(test_data)\n",
        "\n",
        "# 레이블 데이터들은 범주형 형태로 to_categorical() 함수를 사용해 변환합니다.\n",
        "y_train = utils.to_categorical(train_labels)\n",
        "y_val = utils.to_categorical(val_labels)\n",
        "y_test = utils.to_categorical(test_labels)"
      ],
      "metadata": {
        "id": "YCWJLlVUabV9"
      },
      "execution_count": 12,
      "outputs": []
    },
    {
      "cell_type": "markdown",
      "source": [
        "### 모델 구성 및 컴파일\n",
        "___\n",
        "`BatchNormalization`과 `Dropout`을 적용하여 빠르게 학습하면서 과대적합을 방지하고, 46개의 뉴스 주제를 분류하는 딥러닝 모델을 구성합니다."
      ],
      "metadata": {
        "id": "z4OdARihfrn2"
      }
    },
    {
      "cell_type": "code",
      "source": [
        "# 문제 2-3: 빠른 학습과 과대적합을 방지하기 위해 BatchNormalization과 Dropout을 적용한 딥러닝 모델을 구성합니다.\n",
        "import tensorflow as tf\n",
        "from tensorflow.keras import models, layers\n",
        "\n",
        "model = models.Sequential()\n",
        "model.add(keras.Input(shape=(x_train.shape[1], ), name='input'))\n",
        "\n",
        "model.add(layers.Dense(128, name='dense1', kernel_initializer='he_normal', kernel_regularizer=l2(0.0005)))\n",
        "model.add(layers.BatchNormalization())\n",
        "model.add(layers.Activation('relu'))\n",
        "model.add(layers.Dropout(0.5))\n",
        "\n",
        "model.add(layers.Dense(128, name='dense2', kernel_initializer='he_normal', kernel_regularizer=l2(0.0005)))\n",
        "model.add(layers.BatchNormalization())\n",
        "model.add(layers.Activation('relu'))\n",
        "model.add(layers.Dropout(0.5))\n",
        "\n",
        "model.add(layers.Dense(46, activation='softmax', name='output'))\n",
        "\n",
        "model.compile(optimizer=optimizers.Adam(learning_rate=0.0005),\n",
        "              loss='categorical_crossentropy',\n",
        "              metrics=['accuracy'])"
      ],
      "metadata": {
        "id": "ZvyatL5GfmTf"
      },
      "execution_count": 13,
      "outputs": []
    },
    {
      "cell_type": "code",
      "source": [
        "model.summary()"
      ],
      "metadata": {
        "colab": {
          "base_uri": "https://localhost:8080/",
          "height": 459
        },
        "id": "Tf7ogGARg6vG",
        "outputId": "9b5f659b-af8b-40d5-e706-f1e5500c22e2"
      },
      "execution_count": 14,
      "outputs": [
        {
          "output_type": "display_data",
          "data": {
            "text/plain": [
              "\u001b[1mModel: \"sequential_1\"\u001b[0m\n"
            ],
            "text/html": [
              "<pre style=\"white-space:pre;overflow-x:auto;line-height:normal;font-family:Menlo,'DejaVu Sans Mono',consolas,'Courier New',monospace\"><span style=\"font-weight: bold\">Model: \"sequential_1\"</span>\n",
              "</pre>\n"
            ]
          },
          "metadata": {}
        },
        {
          "output_type": "display_data",
          "data": {
            "text/plain": [
              "┏━━━━━━━━━━━━━━━━━━━━━━━━━━━━━━━━━┳━━━━━━━━━━━━━━━━━━━━━━━━┳━━━━━━━━━━━━━━━┓\n",
              "┃\u001b[1m \u001b[0m\u001b[1mLayer (type)                   \u001b[0m\u001b[1m \u001b[0m┃\u001b[1m \u001b[0m\u001b[1mOutput Shape          \u001b[0m\u001b[1m \u001b[0m┃\u001b[1m \u001b[0m\u001b[1m      Param #\u001b[0m\u001b[1m \u001b[0m┃\n",
              "┡━━━━━━━━━━━━━━━━━━━━━━━━━━━━━━━━━╇━━━━━━━━━━━━━━━━━━━━━━━━╇━━━━━━━━━━━━━━━┩\n",
              "│ dense1 (\u001b[38;5;33mDense\u001b[0m)                  │ (\u001b[38;5;45mNone\u001b[0m, \u001b[38;5;34m128\u001b[0m)            │     \u001b[38;5;34m1,280,128\u001b[0m │\n",
              "├─────────────────────────────────┼────────────────────────┼───────────────┤\n",
              "│ batch_normalization             │ (\u001b[38;5;45mNone\u001b[0m, \u001b[38;5;34m128\u001b[0m)            │           \u001b[38;5;34m512\u001b[0m │\n",
              "│ (\u001b[38;5;33mBatchNormalization\u001b[0m)            │                        │               │\n",
              "├─────────────────────────────────┼────────────────────────┼───────────────┤\n",
              "│ activation (\u001b[38;5;33mActivation\u001b[0m)         │ (\u001b[38;5;45mNone\u001b[0m, \u001b[38;5;34m128\u001b[0m)            │             \u001b[38;5;34m0\u001b[0m │\n",
              "├─────────────────────────────────┼────────────────────────┼───────────────┤\n",
              "│ dropout (\u001b[38;5;33mDropout\u001b[0m)               │ (\u001b[38;5;45mNone\u001b[0m, \u001b[38;5;34m128\u001b[0m)            │             \u001b[38;5;34m0\u001b[0m │\n",
              "├─────────────────────────────────┼────────────────────────┼───────────────┤\n",
              "│ dense2 (\u001b[38;5;33mDense\u001b[0m)                  │ (\u001b[38;5;45mNone\u001b[0m, \u001b[38;5;34m128\u001b[0m)            │        \u001b[38;5;34m16,512\u001b[0m │\n",
              "├─────────────────────────────────┼────────────────────────┼───────────────┤\n",
              "│ batch_normalization_1           │ (\u001b[38;5;45mNone\u001b[0m, \u001b[38;5;34m128\u001b[0m)            │           \u001b[38;5;34m512\u001b[0m │\n",
              "│ (\u001b[38;5;33mBatchNormalization\u001b[0m)            │                        │               │\n",
              "├─────────────────────────────────┼────────────────────────┼───────────────┤\n",
              "│ activation_1 (\u001b[38;5;33mActivation\u001b[0m)       │ (\u001b[38;5;45mNone\u001b[0m, \u001b[38;5;34m128\u001b[0m)            │             \u001b[38;5;34m0\u001b[0m │\n",
              "├─────────────────────────────────┼────────────────────────┼───────────────┤\n",
              "│ dropout_1 (\u001b[38;5;33mDropout\u001b[0m)             │ (\u001b[38;5;45mNone\u001b[0m, \u001b[38;5;34m128\u001b[0m)            │             \u001b[38;5;34m0\u001b[0m │\n",
              "├─────────────────────────────────┼────────────────────────┼───────────────┤\n",
              "│ output (\u001b[38;5;33mDense\u001b[0m)                  │ (\u001b[38;5;45mNone\u001b[0m, \u001b[38;5;34m46\u001b[0m)             │         \u001b[38;5;34m5,934\u001b[0m │\n",
              "└─────────────────────────────────┴────────────────────────┴───────────────┘\n"
            ],
            "text/html": [
              "<pre style=\"white-space:pre;overflow-x:auto;line-height:normal;font-family:Menlo,'DejaVu Sans Mono',consolas,'Courier New',monospace\">┏━━━━━━━━━━━━━━━━━━━━━━━━━━━━━━━━━┳━━━━━━━━━━━━━━━━━━━━━━━━┳━━━━━━━━━━━━━━━┓\n",
              "┃<span style=\"font-weight: bold\"> Layer (type)                    </span>┃<span style=\"font-weight: bold\"> Output Shape           </span>┃<span style=\"font-weight: bold\">       Param # </span>┃\n",
              "┡━━━━━━━━━━━━━━━━━━━━━━━━━━━━━━━━━╇━━━━━━━━━━━━━━━━━━━━━━━━╇━━━━━━━━━━━━━━━┩\n",
              "│ dense1 (<span style=\"color: #0087ff; text-decoration-color: #0087ff\">Dense</span>)                  │ (<span style=\"color: #00d7ff; text-decoration-color: #00d7ff\">None</span>, <span style=\"color: #00af00; text-decoration-color: #00af00\">128</span>)            │     <span style=\"color: #00af00; text-decoration-color: #00af00\">1,280,128</span> │\n",
              "├─────────────────────────────────┼────────────────────────┼───────────────┤\n",
              "│ batch_normalization             │ (<span style=\"color: #00d7ff; text-decoration-color: #00d7ff\">None</span>, <span style=\"color: #00af00; text-decoration-color: #00af00\">128</span>)            │           <span style=\"color: #00af00; text-decoration-color: #00af00\">512</span> │\n",
              "│ (<span style=\"color: #0087ff; text-decoration-color: #0087ff\">BatchNormalization</span>)            │                        │               │\n",
              "├─────────────────────────────────┼────────────────────────┼───────────────┤\n",
              "│ activation (<span style=\"color: #0087ff; text-decoration-color: #0087ff\">Activation</span>)         │ (<span style=\"color: #00d7ff; text-decoration-color: #00d7ff\">None</span>, <span style=\"color: #00af00; text-decoration-color: #00af00\">128</span>)            │             <span style=\"color: #00af00; text-decoration-color: #00af00\">0</span> │\n",
              "├─────────────────────────────────┼────────────────────────┼───────────────┤\n",
              "│ dropout (<span style=\"color: #0087ff; text-decoration-color: #0087ff\">Dropout</span>)               │ (<span style=\"color: #00d7ff; text-decoration-color: #00d7ff\">None</span>, <span style=\"color: #00af00; text-decoration-color: #00af00\">128</span>)            │             <span style=\"color: #00af00; text-decoration-color: #00af00\">0</span> │\n",
              "├─────────────────────────────────┼────────────────────────┼───────────────┤\n",
              "│ dense2 (<span style=\"color: #0087ff; text-decoration-color: #0087ff\">Dense</span>)                  │ (<span style=\"color: #00d7ff; text-decoration-color: #00d7ff\">None</span>, <span style=\"color: #00af00; text-decoration-color: #00af00\">128</span>)            │        <span style=\"color: #00af00; text-decoration-color: #00af00\">16,512</span> │\n",
              "├─────────────────────────────────┼────────────────────────┼───────────────┤\n",
              "│ batch_normalization_1           │ (<span style=\"color: #00d7ff; text-decoration-color: #00d7ff\">None</span>, <span style=\"color: #00af00; text-decoration-color: #00af00\">128</span>)            │           <span style=\"color: #00af00; text-decoration-color: #00af00\">512</span> │\n",
              "│ (<span style=\"color: #0087ff; text-decoration-color: #0087ff\">BatchNormalization</span>)            │                        │               │\n",
              "├─────────────────────────────────┼────────────────────────┼───────────────┤\n",
              "│ activation_1 (<span style=\"color: #0087ff; text-decoration-color: #0087ff\">Activation</span>)       │ (<span style=\"color: #00d7ff; text-decoration-color: #00d7ff\">None</span>, <span style=\"color: #00af00; text-decoration-color: #00af00\">128</span>)            │             <span style=\"color: #00af00; text-decoration-color: #00af00\">0</span> │\n",
              "├─────────────────────────────────┼────────────────────────┼───────────────┤\n",
              "│ dropout_1 (<span style=\"color: #0087ff; text-decoration-color: #0087ff\">Dropout</span>)             │ (<span style=\"color: #00d7ff; text-decoration-color: #00d7ff\">None</span>, <span style=\"color: #00af00; text-decoration-color: #00af00\">128</span>)            │             <span style=\"color: #00af00; text-decoration-color: #00af00\">0</span> │\n",
              "├─────────────────────────────────┼────────────────────────┼───────────────┤\n",
              "│ output (<span style=\"color: #0087ff; text-decoration-color: #0087ff\">Dense</span>)                  │ (<span style=\"color: #00d7ff; text-decoration-color: #00d7ff\">None</span>, <span style=\"color: #00af00; text-decoration-color: #00af00\">46</span>)             │         <span style=\"color: #00af00; text-decoration-color: #00af00\">5,934</span> │\n",
              "└─────────────────────────────────┴────────────────────────┴───────────────┘\n",
              "</pre>\n"
            ]
          },
          "metadata": {}
        },
        {
          "output_type": "display_data",
          "data": {
            "text/plain": [
              "\u001b[1m Total params: \u001b[0m\u001b[38;5;34m1,303,598\u001b[0m (4.97 MB)\n"
            ],
            "text/html": [
              "<pre style=\"white-space:pre;overflow-x:auto;line-height:normal;font-family:Menlo,'DejaVu Sans Mono',consolas,'Courier New',monospace\"><span style=\"font-weight: bold\"> Total params: </span><span style=\"color: #00af00; text-decoration-color: #00af00\">1,303,598</span> (4.97 MB)\n",
              "</pre>\n"
            ]
          },
          "metadata": {}
        },
        {
          "output_type": "display_data",
          "data": {
            "text/plain": [
              "\u001b[1m Trainable params: \u001b[0m\u001b[38;5;34m1,303,086\u001b[0m (4.97 MB)\n"
            ],
            "text/html": [
              "<pre style=\"white-space:pre;overflow-x:auto;line-height:normal;font-family:Menlo,'DejaVu Sans Mono',consolas,'Courier New',monospace\"><span style=\"font-weight: bold\"> Trainable params: </span><span style=\"color: #00af00; text-decoration-color: #00af00\">1,303,086</span> (4.97 MB)\n",
              "</pre>\n"
            ]
          },
          "metadata": {}
        },
        {
          "output_type": "display_data",
          "data": {
            "text/plain": [
              "\u001b[1m Non-trainable params: \u001b[0m\u001b[38;5;34m512\u001b[0m (2.00 KB)\n"
            ],
            "text/html": [
              "<pre style=\"white-space:pre;overflow-x:auto;line-height:normal;font-family:Menlo,'DejaVu Sans Mono',consolas,'Courier New',monospace\"><span style=\"font-weight: bold\"> Non-trainable params: </span><span style=\"color: #00af00; text-decoration-color: #00af00\">512</span> (2.00 KB)\n",
              "</pre>\n"
            ]
          },
          "metadata": {}
        }
      ]
    },
    {
      "cell_type": "markdown",
      "source": [
        "모델 학습\n",
        "___\n",
        "`ModelCheckpoint`와 `EarlyStopping` 콜백 함수를 적용하여 모델 학습을 진행합니다."
      ],
      "metadata": {
        "id": "PAxwDmITimNt"
      }
    },
    {
      "cell_type": "code",
      "source": [
        "# 문제 2-4: ModelCheckpoint와 EarlyStopping 콜백 함수를 적용하여 모델 학습을 진행합니다.\n",
        "from tensorflow.keras import callbacks\n",
        "\n",
        "\n",
        "check_point_cb = callbacks.ModelCheckpoint('reuters_model.keras',\n",
        "                                           save_best_only=True)\n",
        "\n",
        "early_stopping_cb = callbacks.EarlyStopping(patience=10,\n",
        "                                            monitor='val_loss',\n",
        "                                            restore_best_weights=True)\n",
        "\n",
        "history = model.fit(x_train, y_train,\n",
        "                    epochs=100,\n",
        "                    batch_size=512,\n",
        "                    validation_data=(x_val, y_val),\n",
        "                    callbacks=[check_point_cb, early_stopping_cb])"
      ],
      "metadata": {
        "colab": {
          "base_uri": "https://localhost:8080/"
        },
        "collapsed": true,
        "id": "RVdL8AWaivEU",
        "outputId": "380ed29b-cbd5-42fb-fb0f-90bc702787eb"
      },
      "execution_count": 15,
      "outputs": [
        {
          "output_type": "stream",
          "name": "stdout",
          "text": [
            "Epoch 1/100\n",
            "\u001b[1m14/14\u001b[0m \u001b[32m━━━━━━━━━━━━━━━━━━━━\u001b[0m\u001b[37m\u001b[0m \u001b[1m8s\u001b[0m 343ms/step - accuracy: 0.0686 - loss: 4.4300 - val_accuracy: 0.4406 - val_loss: 3.8966\n",
            "Epoch 2/100\n",
            "\u001b[1m14/14\u001b[0m \u001b[32m━━━━━━━━━━━━━━━━━━━━\u001b[0m\u001b[37m\u001b[0m \u001b[1m0s\u001b[0m 28ms/step - accuracy: 0.3319 - loss: 3.1934 - val_accuracy: 0.6297 - val_loss: 3.6306\n",
            "Epoch 3/100\n",
            "\u001b[1m14/14\u001b[0m \u001b[32m━━━━━━━━━━━━━━━━━━━━\u001b[0m\u001b[37m\u001b[0m \u001b[1m0s\u001b[0m 34ms/step - accuracy: 0.5179 - loss: 2.4981 - val_accuracy: 0.6747 - val_loss: 3.3716\n",
            "Epoch 4/100\n",
            "\u001b[1m14/14\u001b[0m \u001b[32m━━━━━━━━━━━━━━━━━━━━\u001b[0m\u001b[37m\u001b[0m \u001b[1m0s\u001b[0m 27ms/step - accuracy: 0.6098 - loss: 2.0763 - val_accuracy: 0.6862 - val_loss: 3.1515\n",
            "Epoch 5/100\n",
            "\u001b[1m14/14\u001b[0m \u001b[32m━━━━━━━━━━━━━━━━━━━━\u001b[0m\u001b[37m\u001b[0m \u001b[1m0s\u001b[0m 27ms/step - accuracy: 0.6608 - loss: 1.8272 - val_accuracy: 0.6920 - val_loss: 2.9586\n",
            "Epoch 6/100\n",
            "\u001b[1m14/14\u001b[0m \u001b[32m━━━━━━━━━━━━━━━━━━━━\u001b[0m\u001b[37m\u001b[0m \u001b[1m0s\u001b[0m 28ms/step - accuracy: 0.6948 - loss: 1.6435 - val_accuracy: 0.6992 - val_loss: 2.7856\n",
            "Epoch 7/100\n",
            "\u001b[1m14/14\u001b[0m \u001b[32m━━━━━━━━━━━━━━━━━━━━\u001b[0m\u001b[37m\u001b[0m \u001b[1m0s\u001b[0m 27ms/step - accuracy: 0.7180 - loss: 1.5014 - val_accuracy: 0.7072 - val_loss: 2.6459\n",
            "Epoch 8/100\n",
            "\u001b[1m14/14\u001b[0m \u001b[32m━━━━━━━━━━━━━━━━━━━━\u001b[0m\u001b[37m\u001b[0m \u001b[1m0s\u001b[0m 27ms/step - accuracy: 0.7404 - loss: 1.3802 - val_accuracy: 0.7112 - val_loss: 2.5131\n",
            "Epoch 9/100\n",
            "\u001b[1m14/14\u001b[0m \u001b[32m━━━━━━━━━━━━━━━━━━━━\u001b[0m\u001b[37m\u001b[0m \u001b[1m0s\u001b[0m 27ms/step - accuracy: 0.7532 - loss: 1.3193 - val_accuracy: 0.7125 - val_loss: 2.3825\n",
            "Epoch 10/100\n",
            "\u001b[1m14/14\u001b[0m \u001b[32m━━━━━━━━━━━━━━━━━━━━\u001b[0m\u001b[37m\u001b[0m \u001b[1m0s\u001b[0m 28ms/step - accuracy: 0.7753 - loss: 1.2506 - val_accuracy: 0.7201 - val_loss: 2.2654\n",
            "Epoch 11/100\n",
            "\u001b[1m14/14\u001b[0m \u001b[32m━━━━━━━━━━━━━━━━━━━━\u001b[0m\u001b[37m\u001b[0m \u001b[1m0s\u001b[0m 27ms/step - accuracy: 0.7843 - loss: 1.1748 - val_accuracy: 0.7214 - val_loss: 2.1638\n",
            "Epoch 12/100\n",
            "\u001b[1m14/14\u001b[0m \u001b[32m━━━━━━━━━━━━━━━━━━━━\u001b[0m\u001b[37m\u001b[0m \u001b[1m0s\u001b[0m 27ms/step - accuracy: 0.7916 - loss: 1.1155 - val_accuracy: 0.7285 - val_loss: 2.0513\n",
            "Epoch 13/100\n",
            "\u001b[1m14/14\u001b[0m \u001b[32m━━━━━━━━━━━━━━━━━━━━\u001b[0m\u001b[37m\u001b[0m \u001b[1m0s\u001b[0m 28ms/step - accuracy: 0.8060 - loss: 1.0616 - val_accuracy: 0.7330 - val_loss: 1.9473\n",
            "Epoch 14/100\n",
            "\u001b[1m14/14\u001b[0m \u001b[32m━━━━━━━━━━━━━━━━━━━━\u001b[0m\u001b[37m\u001b[0m \u001b[1m0s\u001b[0m 27ms/step - accuracy: 0.8179 - loss: 1.0050 - val_accuracy: 0.7397 - val_loss: 1.8483\n",
            "Epoch 15/100\n",
            "\u001b[1m14/14\u001b[0m \u001b[32m━━━━━━━━━━━━━━━━━━━━\u001b[0m\u001b[37m\u001b[0m \u001b[1m0s\u001b[0m 27ms/step - accuracy: 0.8211 - loss: 0.9857 - val_accuracy: 0.7517 - val_loss: 1.7557\n",
            "Epoch 16/100\n",
            "\u001b[1m14/14\u001b[0m \u001b[32m━━━━━━━━━━━━━━━━━━━━\u001b[0m\u001b[37m\u001b[0m \u001b[1m0s\u001b[0m 27ms/step - accuracy: 0.8358 - loss: 0.9190 - val_accuracy: 0.7575 - val_loss: 1.6983\n",
            "Epoch 17/100\n",
            "\u001b[1m14/14\u001b[0m \u001b[32m━━━━━━━━━━━━━━━━━━━━\u001b[0m\u001b[37m\u001b[0m \u001b[1m0s\u001b[0m 28ms/step - accuracy: 0.8441 - loss: 0.8772 - val_accuracy: 0.7615 - val_loss: 1.6265\n",
            "Epoch 18/100\n",
            "\u001b[1m14/14\u001b[0m \u001b[32m━━━━━━━━━━━━━━━━━━━━\u001b[0m\u001b[37m\u001b[0m \u001b[1m0s\u001b[0m 27ms/step - accuracy: 0.8491 - loss: 0.8555 - val_accuracy: 0.7735 - val_loss: 1.5524\n",
            "Epoch 19/100\n",
            "\u001b[1m14/14\u001b[0m \u001b[32m━━━━━━━━━━━━━━━━━━━━\u001b[0m\u001b[37m\u001b[0m \u001b[1m0s\u001b[0m 28ms/step - accuracy: 0.8584 - loss: 0.8174 - val_accuracy: 0.7766 - val_loss: 1.5016\n",
            "Epoch 20/100\n",
            "\u001b[1m14/14\u001b[0m \u001b[32m━━━━━━━━━━━━━━━━━━━━\u001b[0m\u001b[37m\u001b[0m \u001b[1m0s\u001b[0m 27ms/step - accuracy: 0.8649 - loss: 0.7925 - val_accuracy: 0.7815 - val_loss: 1.4402\n",
            "Epoch 21/100\n",
            "\u001b[1m14/14\u001b[0m \u001b[32m━━━━━━━━━━━━━━━━━━━━\u001b[0m\u001b[37m\u001b[0m \u001b[1m0s\u001b[0m 30ms/step - accuracy: 0.8682 - loss: 0.7710 - val_accuracy: 0.7864 - val_loss: 1.3839\n",
            "Epoch 22/100\n",
            "\u001b[1m14/14\u001b[0m \u001b[32m━━━━━━━━━━━━━━━━━━━━\u001b[0m\u001b[37m\u001b[0m \u001b[1m1s\u001b[0m 39ms/step - accuracy: 0.8691 - loss: 0.7455 - val_accuracy: 0.7904 - val_loss: 1.3414\n",
            "Epoch 23/100\n",
            "\u001b[1m14/14\u001b[0m \u001b[32m━━━━━━━━━━━━━━━━━━━━\u001b[0m\u001b[37m\u001b[0m \u001b[1m1s\u001b[0m 42ms/step - accuracy: 0.8828 - loss: 0.7201 - val_accuracy: 0.7926 - val_loss: 1.3047\n",
            "Epoch 24/100\n",
            "\u001b[1m14/14\u001b[0m \u001b[32m━━━━━━━━━━━━━━━━━━━━\u001b[0m\u001b[37m\u001b[0m \u001b[1m1s\u001b[0m 72ms/step - accuracy: 0.8865 - loss: 0.6892 - val_accuracy: 0.7953 - val_loss: 1.2731\n",
            "Epoch 25/100\n",
            "\u001b[1m14/14\u001b[0m \u001b[32m━━━━━━━━━━━━━━━━━━━━\u001b[0m\u001b[37m\u001b[0m \u001b[1m0s\u001b[0m 29ms/step - accuracy: 0.8923 - loss: 0.6632 - val_accuracy: 0.7975 - val_loss: 1.2500\n",
            "Epoch 26/100\n",
            "\u001b[1m14/14\u001b[0m \u001b[32m━━━━━━━━━━━━━━━━━━━━\u001b[0m\u001b[37m\u001b[0m \u001b[1m1s\u001b[0m 49ms/step - accuracy: 0.8930 - loss: 0.6572 - val_accuracy: 0.7984 - val_loss: 1.2316\n",
            "Epoch 27/100\n",
            "\u001b[1m14/14\u001b[0m \u001b[32m━━━━━━━━━━━━━━━━━━━━\u001b[0m\u001b[37m\u001b[0m \u001b[1m0s\u001b[0m 33ms/step - accuracy: 0.9029 - loss: 0.6276 - val_accuracy: 0.7993 - val_loss: 1.2065\n",
            "Epoch 28/100\n",
            "\u001b[1m14/14\u001b[0m \u001b[32m━━━━━━━━━━━━━━━━━━━━\u001b[0m\u001b[37m\u001b[0m \u001b[1m1s\u001b[0m 39ms/step - accuracy: 0.9018 - loss: 0.6201 - val_accuracy: 0.7997 - val_loss: 1.1898\n",
            "Epoch 29/100\n",
            "\u001b[1m14/14\u001b[0m \u001b[32m━━━━━━━━━━━━━━━━━━━━\u001b[0m\u001b[37m\u001b[0m \u001b[1m0s\u001b[0m 28ms/step - accuracy: 0.9055 - loss: 0.6044 - val_accuracy: 0.8051 - val_loss: 1.1740\n",
            "Epoch 30/100\n",
            "\u001b[1m14/14\u001b[0m \u001b[32m━━━━━━━━━━━━━━━━━━━━\u001b[0m\u001b[37m\u001b[0m \u001b[1m0s\u001b[0m 27ms/step - accuracy: 0.9076 - loss: 0.5928 - val_accuracy: 0.8073 - val_loss: 1.1601\n",
            "Epoch 31/100\n",
            "\u001b[1m14/14\u001b[0m \u001b[32m━━━━━━━━━━━━━━━━━━━━\u001b[0m\u001b[37m\u001b[0m \u001b[1m0s\u001b[0m 27ms/step - accuracy: 0.9143 - loss: 0.5659 - val_accuracy: 0.8086 - val_loss: 1.1458\n",
            "Epoch 32/100\n",
            "\u001b[1m14/14\u001b[0m \u001b[32m━━━━━━━━━━━━━━━━━━━━\u001b[0m\u001b[37m\u001b[0m \u001b[1m0s\u001b[0m 29ms/step - accuracy: 0.9160 - loss: 0.5468 - val_accuracy: 0.8077 - val_loss: 1.1424\n",
            "Epoch 33/100\n",
            "\u001b[1m14/14\u001b[0m \u001b[32m━━━━━━━━━━━━━━━━━━━━\u001b[0m\u001b[37m\u001b[0m \u001b[1m0s\u001b[0m 28ms/step - accuracy: 0.9227 - loss: 0.5353 - val_accuracy: 0.8095 - val_loss: 1.1383\n",
            "Epoch 34/100\n",
            "\u001b[1m14/14\u001b[0m \u001b[32m━━━━━━━━━━━━━━━━━━━━\u001b[0m\u001b[37m\u001b[0m \u001b[1m0s\u001b[0m 22ms/step - accuracy: 0.9144 - loss: 0.5370 - val_accuracy: 0.8095 - val_loss: 1.1394\n",
            "Epoch 35/100\n",
            "\u001b[1m14/14\u001b[0m \u001b[32m━━━━━━━━━━━━━━━━━━━━\u001b[0m\u001b[37m\u001b[0m \u001b[1m0s\u001b[0m 28ms/step - accuracy: 0.9280 - loss: 0.4985 - val_accuracy: 0.8131 - val_loss: 1.1308\n",
            "Epoch 36/100\n",
            "\u001b[1m14/14\u001b[0m \u001b[32m━━━━━━━━━━━━━━━━━━━━\u001b[0m\u001b[37m\u001b[0m \u001b[1m0s\u001b[0m 27ms/step - accuracy: 0.9249 - loss: 0.5054 - val_accuracy: 0.8153 - val_loss: 1.1225\n",
            "Epoch 37/100\n",
            "\u001b[1m14/14\u001b[0m \u001b[32m━━━━━━━━━━━━━━━━━━━━\u001b[0m\u001b[37m\u001b[0m \u001b[1m1s\u001b[0m 20ms/step - accuracy: 0.9314 - loss: 0.4866 - val_accuracy: 0.8131 - val_loss: 1.1245\n",
            "Epoch 38/100\n",
            "\u001b[1m14/14\u001b[0m \u001b[32m━━━━━━━━━━━━━━━━━━━━\u001b[0m\u001b[37m\u001b[0m \u001b[1m0s\u001b[0m 28ms/step - accuracy: 0.9277 - loss: 0.4852 - val_accuracy: 0.8117 - val_loss: 1.1217\n",
            "Epoch 39/100\n",
            "\u001b[1m14/14\u001b[0m \u001b[32m━━━━━━━━━━━━━━━━━━━━\u001b[0m\u001b[37m\u001b[0m \u001b[1m0s\u001b[0m 33ms/step - accuracy: 0.9327 - loss: 0.4735 - val_accuracy: 0.8131 - val_loss: 1.1170\n",
            "Epoch 40/100\n",
            "\u001b[1m14/14\u001b[0m \u001b[32m━━━━━━━━━━━━━━━━━━━━\u001b[0m\u001b[37m\u001b[0m \u001b[1m0s\u001b[0m 27ms/step - accuracy: 0.9292 - loss: 0.4712 - val_accuracy: 0.8175 - val_loss: 1.1170\n",
            "Epoch 41/100\n",
            "\u001b[1m14/14\u001b[0m \u001b[32m━━━━━━━━━━━━━━━━━━━━\u001b[0m\u001b[37m\u001b[0m \u001b[1m0s\u001b[0m 27ms/step - accuracy: 0.9336 - loss: 0.4673 - val_accuracy: 0.8149 - val_loss: 1.1163\n",
            "Epoch 42/100\n",
            "\u001b[1m14/14\u001b[0m \u001b[32m━━━━━━━━━━━━━━━━━━━━\u001b[0m\u001b[37m\u001b[0m \u001b[1m0s\u001b[0m 23ms/step - accuracy: 0.9431 - loss: 0.4377 - val_accuracy: 0.8158 - val_loss: 1.1196\n",
            "Epoch 43/100\n",
            "\u001b[1m14/14\u001b[0m \u001b[32m━━━━━━━━━━━━━━━━━━━━\u001b[0m\u001b[37m\u001b[0m \u001b[1m0s\u001b[0m 20ms/step - accuracy: 0.9401 - loss: 0.4521 - val_accuracy: 0.8153 - val_loss: 1.1230\n",
            "Epoch 44/100\n",
            "\u001b[1m14/14\u001b[0m \u001b[32m━━━━━━━━━━━━━━━━━━━━\u001b[0m\u001b[37m\u001b[0m \u001b[1m0s\u001b[0m 20ms/step - accuracy: 0.9336 - loss: 0.4412 - val_accuracy: 0.8193 - val_loss: 1.1218\n",
            "Epoch 45/100\n",
            "\u001b[1m14/14\u001b[0m \u001b[32m━━━━━━━━━━━━━━━━━━━━\u001b[0m\u001b[37m\u001b[0m \u001b[1m1s\u001b[0m 22ms/step - accuracy: 0.9406 - loss: 0.4319 - val_accuracy: 0.8184 - val_loss: 1.1205\n",
            "Epoch 46/100\n",
            "\u001b[1m14/14\u001b[0m \u001b[32m━━━━━━━━━━━━━━━━━━━━\u001b[0m\u001b[37m\u001b[0m \u001b[1m0s\u001b[0m 21ms/step - accuracy: 0.9393 - loss: 0.4226 - val_accuracy: 0.8158 - val_loss: 1.1175\n",
            "Epoch 47/100\n",
            "\u001b[1m14/14\u001b[0m \u001b[32m━━━━━━━━━━━━━━━━━━━━\u001b[0m\u001b[37m\u001b[0m \u001b[1m0s\u001b[0m 29ms/step - accuracy: 0.9441 - loss: 0.4174 - val_accuracy: 0.8166 - val_loss: 1.1216\n",
            "Epoch 48/100\n",
            "\u001b[1m14/14\u001b[0m \u001b[32m━━━━━━━━━━━━━━━━━━━━\u001b[0m\u001b[37m\u001b[0m \u001b[1m1s\u001b[0m 26ms/step - accuracy: 0.9426 - loss: 0.4084 - val_accuracy: 0.8149 - val_loss: 1.1232\n",
            "Epoch 49/100\n",
            "\u001b[1m14/14\u001b[0m \u001b[32m━━━━━━━━━━━━━━━━━━━━\u001b[0m\u001b[37m\u001b[0m \u001b[1m1s\u001b[0m 28ms/step - accuracy: 0.9410 - loss: 0.4188 - val_accuracy: 0.8135 - val_loss: 1.1259\n",
            "Epoch 50/100\n",
            "\u001b[1m14/14\u001b[0m \u001b[32m━━━━━━━━━━━━━━━━━━━━\u001b[0m\u001b[37m\u001b[0m \u001b[1m0s\u001b[0m 27ms/step - accuracy: 0.9451 - loss: 0.3988 - val_accuracy: 0.8175 - val_loss: 1.1221\n",
            "Epoch 51/100\n",
            "\u001b[1m14/14\u001b[0m \u001b[32m━━━━━━━━━━━━━━━━━━━━\u001b[0m\u001b[37m\u001b[0m \u001b[1m0s\u001b[0m 21ms/step - accuracy: 0.9493 - loss: 0.3865 - val_accuracy: 0.8220 - val_loss: 1.1195\n"
          ]
        }
      ]
    },
    {
      "cell_type": "markdown",
      "source": [
        "- 학습 히스토리의 loss, val_loss, accuracy, val_accuracy를 차트로 시각화합니다.\n",
        "\n",
        "\n",
        "\n"
      ],
      "metadata": {
        "id": "ckha4_10khYv"
      }
    },
    {
      "cell_type": "code",
      "source": [
        "# 학습 히스토리의 `loss`, `val_loss`, `accuracy`, `val_accuracy`를 차트로 시각화합니다.\n",
        "plt.style.use('seaborn-v0_8-white')\n",
        "\n",
        "history_dict = history.history\n",
        "\n",
        "loss = history_dict['loss']\n",
        "val_loss = history_dict['val_loss']\n",
        "\n",
        "epochs = range(1, len(loss) + 1)\n",
        "fig = plt.figure(figsize=(12, 5))\n",
        "\n",
        "ax1 = fig.add_subplot(1, 2, 1)\n",
        "ax1.plot(epochs, loss, 'b-', label='train_loss')\n",
        "ax1.plot(epochs, val_loss, 'r-', label='val_loss')\n",
        "ax1.set_title('Train and Validation Loss')\n",
        "ax1.set_xlabel('Epochs')\n",
        "ax1.set_ylabel('Loss')\n",
        "ax1.grid()\n",
        "ax1.legend()\n",
        "\n",
        "accuracy = history_dict['accuracy']\n",
        "val_accuracy = history_dict['val_accuracy']\n",
        "\n",
        "ax2 = fig.add_subplot(1, 2, 2)\n",
        "ax2.plot(epochs, accuracy, 'b-', label='train_accuracy')\n",
        "ax2.plot(epochs, val_accuracy, 'r-', label='val_accuracy')\n",
        "ax2.set_title('Train and Validation Accuracy')\n",
        "ax2.set_xlabel('Epochs')\n",
        "ax2.set_ylabel('Accuracy')\n",
        "ax2.grid()\n",
        "ax2.legend()\n",
        "\n",
        "plt.show()"
      ],
      "metadata": {
        "colab": {
          "base_uri": "https://localhost:8080/",
          "height": 480
        },
        "id": "KMgv5CvwjF95",
        "outputId": "bebf8bb7-a66a-40ce-966d-1c1555a6167d"
      },
      "execution_count": 16,
      "outputs": [
        {
          "output_type": "display_data",
          "data": {
            "text/plain": [
              "<Figure size 1200x500 with 2 Axes>"
            ],
            "image/png": "[encoded data removed]"
          },
          "metadata": {}
        }
      ]
    },
    {
      "cell_type": "markdown",
      "source": [
        "### 모델 평가 및 예측\n",
        "___\n",
        "- 테스트 데이터셋을 이용해 모델을 평가합니다."
      ],
      "metadata": {
        "id": "HmdCOx5wkpeI"
      }
    },
    {
      "cell_type": "code",
      "source": [
        "# 문제 2-5: 테스트 데이터셋을 이용해 모델을 평가합니다.\n",
        "loss, acc = model.evaluate(x_test, y_test)\n",
        "\n",
        "print(f'loss: {loss:.4f}, accuracy: {acc:.4f}')"
      ],
      "metadata": {
        "colab": {
          "base_uri": "https://localhost:8080/"
        },
        "id": "vgZtdQF1kjh9",
        "outputId": "f46ba66a-7754-46c1-d1b7-fdf54c627672"
      },
      "execution_count": 17,
      "outputs": [
        {
          "output_type": "stream",
          "name": "stdout",
          "text": [
            "\u001b[1m71/71\u001b[0m \u001b[32m━━━━━━━━━━━━━━━━━━━━\u001b[0m\u001b[37m\u001b[0m \u001b[1m1s\u001b[0m 9ms/step - accuracy: 0.8085 - loss: 1.1608\n",
            "loss: 1.1693, accuracy: 0.8028\n"
          ]
        }
      ]
    },
    {
      "cell_type": "markdown",
      "source": [
        "튜닝 기록\n",
        "___\n",
        "- 기본 모델 --> loss: 0.9774, accuracy: 0.7894\n",
        "    - overfitting 되어 있음\n",
        "- 튜닝1 : 가중치 초기화 추가 --> loss: 0.9696, accuracy: 0.7858\n",
        "    - 여전히 overfitting 되어 있음\n",
        "- 튜닝2 : dropout 조정(0.2 --> 0.5)  --> loss: 0.9667, accuracy: 0.7965\n",
        "- 튜닝3 : L2 규제 추가 --> loss: 1.2122, accuracy: 0.8050\n",
        "- 튜닝4 : `dense`의 뉴런수 조정(128 -> 64) --> loss: 1.1680, accuracy: 0.7952\n",
        "- 튜닝5 : 튜닝3 설정 + 학습률(0.005) + ReduceLROnPlateau 콜백 추가 --> loss: 1.1820, accuracy: 0.7970\n",
        "- 튜닝6 : L2 규제 강화(0.001 -> 0.005) --> loss: 1.2179, accuracy: 0.7912\n",
        "\n",
        "--> `튜닝3` 모델을 최종 모델로 결정하였습니다.\n",
        "\n"
      ],
      "metadata": {
        "id": "BbAVDRyjlDfr"
      }
    },
    {
      "cell_type": "markdown",
      "source": [
        "## CIFAR10 딥러닝 모델"
      ],
      "metadata": {
        "id": "0ZASKd4Jycap"
      }
    },
    {
      "cell_type": "markdown",
      "source": [
        "CIFAR10 데이터셋은 32x32 픽셀의 6,000개 컬러 이미지로 이루어져 있습니다. 데이터셋의 각 이미지는 10개의 클래스로 라벨링되어 있으며, 머신러닝 연구에 가장 널리 사용되고 있습니다.\n",
        "\n"
      ],
      "metadata": {
        "id": "RY_1s9tTyduy"
      }
    },
    {
      "cell_type": "markdown",
      "source": [
        "데이터 로드 및 전처리\n",
        "___\n",
        "- CIFAR10 데이터셋을 로드하고, 훈련 데이터셋에서 20%를 검증 데이터셋으로 분리합니다. 데이터셋은 keras.datasets에서 불러올 수 있는 CIFAR10 데이터 셋을 활용합니다.\n",
        "- 데이터셋 분리 작업에서는 sklearn 라이브러리의 train_test_split 함수를 활용합니다.\n",
        "- 훈련, 검증, 테스트 데이터와 레이블 종류가 몇개인지 출력합니다."
      ],
      "metadata": {
        "id": "CO37NI1Jyf_X"
      }
    },
    {
      "cell_type": "code",
      "source": [
        "import matplotlib.pyplot as plt\n",
        "from sklearn.model_selection import train_test_split\n",
        "\n",
        "from tensorflow.keras import models, layers\n",
        "from tensorflow.keras.datasets import cifar10"
      ],
      "metadata": {
        "id": "XqGiG2Lfk2Dd"
      },
      "execution_count": 18,
      "outputs": []
    },
    {
      "cell_type": "code",
      "source": [
        "# 문제 3-1: cifar10 데이터셋을 로드하고, 훈련 데이터셋에서 20%를 검증 데이터셋으로 분리합니다.\n",
        "(x_train_full, y_train_full), (x_test, y_test) = cifar10.load_data()\n",
        "\n",
        "# train/val split from x_train_full\n",
        "x_train, x_val, y_train, y_val = train_test_split(x_train_full, y_train_full, test_size = 0.2)\n",
        "\n",
        "# 훈련, 검증, 테스트 데이터와 레이블 종류가 몇개인지 출력합니다.\n",
        "print(\"전체 학습 데이터: {} 레이블: {}\".format(x_train_full.shape, y_train_full.shape))\n",
        "print(\"학습 데이터: {} 레이블: {}\".format(x_train.shape, y_train.shape))\n",
        "print(\"검증 데이터: {} 레이블: {}\".format(x_val.shape, y_val.shape))\n",
        "print(\"테스트 데이터: {} 레이블: {}\".format(x_test.shape, y_test.shape))"
      ],
      "metadata": {
        "colab": {
          "base_uri": "https://localhost:8080/"
        },
        "id": "sdoU7v40yueH",
        "outputId": "75520387-aefd-4601-8ec4-0868f0e037bb"
      },
      "execution_count": 55,
      "outputs": [
        {
          "output_type": "stream",
          "name": "stdout",
          "text": [
            "전체 학습 데이터: (50000, 32, 32, 3) 레이블: (50000, 1)\n",
            "학습 데이터: (40000, 32, 32, 3) 레이블: (40000, 1)\n",
            "검증 데이터: (10000, 32, 32, 3) 레이블: (10000, 1)\n",
            "테스트 데이터: (10000, 32, 32, 3) 레이블: (10000, 1)\n"
          ]
        }
      ]
    },
    {
      "cell_type": "markdown",
      "source": [
        "- class_name 변수를 만들어 cifar10의 분류에 해당하는 'airplane', 'automobile', 'bird', 'cat', 'deer', 'dog', 'frog', 'horse', 'ship', 'truck'를 담습니다.\n",
        "\n",
        "\n",
        "\n"
      ],
      "metadata": {
        "id": "9Un6HsKnz7ay"
      }
    },
    {
      "cell_type": "code",
      "source": [
        "# cifar10의 분류에 해당하는 'airplane', 'automobile', 'bird', 'cat', 'deer',\n",
        "# 'dog', 'frog', 'horse', 'ship', 'truck'를 class_name으로 정의합니다.\n",
        "class_names = ['airplane', 'automobile', 'bird', 'cat', 'deer',\n",
        "               'dog', 'frog', 'horse', 'ship', 'truck']"
      ],
      "metadata": {
        "id": "9wupj9fSzi46"
      },
      "execution_count": 56,
      "outputs": []
    },
    {
      "cell_type": "markdown",
      "source": [
        "- 데이터 중 샘플 하나를 시각화해보고, 데이터의 형태를 확인해봅니다.\n",
        "\n",
        "\n",
        "\n"
      ],
      "metadata": {
        "id": "RyBk020yz_Xk"
      }
    },
    {
      "cell_type": "code",
      "source": [
        "# 훈련 데이터의 0번째인 x_train[0]를 이미지로 시각화합니다.\n",
        "plt.style.use('seaborn-v0_8-white')\n",
        "\n",
        "plt.figure()\n",
        "plt.imshow(x_train[0])\n",
        "plt.colorbar()\n",
        "plt.show()"
      ],
      "metadata": {
        "colab": {
          "base_uri": "https://localhost:8080/",
          "height": 425
        },
        "id": "nmR8R5vgz-iS",
        "outputId": "790ca14e-3f41-4583-b878-35908d7ed511"
      },
      "execution_count": 57,
      "outputs": [
        {
          "output_type": "display_data",
          "data": {
            "text/plain": [
              "<Figure size 640x480 with 2 Axes>"
            ],
            "image/png": "[encoded data removed]"
          },
          "metadata": {}
        }
      ]
    },
    {
      "cell_type": "code",
      "source": [
        "# 훈련, 검증, 테스트 데이터의 형태(shape)을 출력합니다.\n",
        "print(x_train.shape)\n",
        "print(x_val.shape)\n",
        "print(x_test.shape)"
      ],
      "metadata": {
        "colab": {
          "base_uri": "https://localhost:8080/"
        },
        "id": "DG-L9O1q0B9h",
        "outputId": "0d947c59-ae4f-48aa-c65a-fd38a755124d"
      },
      "execution_count": 58,
      "outputs": [
        {
          "output_type": "stream",
          "name": "stdout",
          "text": [
            "(40000, 32, 32, 3)\n",
            "(10000, 32, 32, 3)\n",
            "(10000, 32, 32, 3)\n"
          ]
        }
      ]
    },
    {
      "cell_type": "markdown",
      "source": [
        "- 데이터의 형태를 변형하여 모델이 잘 학습할 수 있게끔 해줍니다.\n",
        "\n",
        "\n",
        "\n"
      ],
      "metadata": {
        "id": "x4CxKFMO0FVY"
      }
    },
    {
      "cell_type": "code",
      "source": [
        "# 문제 3-2: 훈련, 검증, 테스트 데이터의 형태(shape)을 32 * 32 * 3 = 3072로 변형합니다.\n",
        "# x_train = x_train.reshape(x_train.shape[0], 3072)\n",
        "# x_val = x_val.reshape(x_val.shape[0], 3072)\n",
        "# x_test = x_test.reshape(x_test.shape[0], 3072)\n",
        "\n",
        "print(x_train.shape)\n",
        "print(x_val.shape)\n",
        "print(x_test.shape)"
      ],
      "metadata": {
        "colab": {
          "base_uri": "https://localhost:8080/"
        },
        "id": "Z_B3PM9C0ELK",
        "outputId": "c73013a7-a476-4a20-9652-28d6dd851ba8"
      },
      "execution_count": 59,
      "outputs": [
        {
          "output_type": "stream",
          "name": "stdout",
          "text": [
            "(40000, 32, 32, 3)\n",
            "(10000, 32, 32, 3)\n",
            "(10000, 32, 32, 3)\n"
          ]
        }
      ]
    },
    {
      "cell_type": "code",
      "source": [
        "# 훈련, 검증, 테스트 데이터를 255로 나누어 0~1 사이의 값으로 변환합니다.\n",
        "x_train = x_train / 255.\n",
        "x_val = x_val / 255.\n",
        "x_test = x_test / 255."
      ],
      "metadata": {
        "id": "QHEh3EmA1Kex"
      },
      "execution_count": 60,
      "outputs": []
    },
    {
      "cell_type": "markdown",
      "source": [
        "### 모델 구성 및 컴파일\n",
        "___\n",
        "`BatchNormalization`과 `Dropout`을 적용하여 빠르게 학습하면서 과대적합을 방지하고, 10개의 이미지를 분류하는 딥러닝 모델을 구성합니다."
      ],
      "metadata": {
        "id": "h4obUZYf1XLS"
      }
    },
    {
      "cell_type": "code",
      "source": [
        "# 문제 3-3: BatchNormalization과 Dropout을 적용하여 빠른 학습과 과대적합을 방지하고,\n",
        "# 10개의 이미지를 분류하는 딥러닝 모델을 구성합니다.\n",
        "import tensorflow as tf\n",
        "from tensorflow.keras import models, layers\n",
        "\n",
        "model = models.Sequential()\n",
        "model.add(keras.Input(shape=(32,32,3), name='input'))\n",
        "\n",
        "model.add(layers.Conv2D(32, (3,3), padding='same', name='conv1_1', kernel_regularizer=l2(0.0005)))\n",
        "model.add(layers.BatchNormalization())\n",
        "model.add(layers.Activation('relu'))\n",
        "model.add(layers.Conv2D(32, (3,3), padding='same', name='conv1_2', kernel_regularizer=l2(0.0005)))\n",
        "model.add(layers.BatchNormalization())\n",
        "model.add(layers.Activation('relu'))\n",
        "model.add(keras.layers.MaxPool2D(2,2))\n",
        "model.add(layers.Dropout(0.3))\n",
        "\n",
        "model.add(layers.Conv2D(64, (3,3), padding='same', name='conv2_1', kernel_regularizer=l2(0.0005)))\n",
        "model.add(layers.BatchNormalization())\n",
        "model.add(layers.Activation('relu'))\n",
        "model.add(layers.Conv2D(64, (3,3), padding='same', name='conv2_2', kernel_regularizer=l2(0.0005)))\n",
        "model.add(layers.BatchNormalization())\n",
        "model.add(layers.Activation('relu'))\n",
        "model.add(keras.layers.MaxPool2D(2,2))\n",
        "model.add(layers.Dropout(0.3))\n",
        "\n",
        "model.add(layers.Conv2D(128, (3,3), padding='same', name='conv3_1', kernel_regularizer=l2(0.0005)))\n",
        "model.add(layers.BatchNormalization())\n",
        "model.add(layers.Activation('relu'))\n",
        "model.add(layers.Conv2D(128, (3,3), padding='same', name='conv3_2', kernel_regularizer=l2(0.0005)))\n",
        "model.add(layers.BatchNormalization())\n",
        "model.add(layers.Activation('relu'))\n",
        "model.add(keras.layers.MaxPool2D(2,2))\n",
        "model.add(layers.Dropout(0.3))\n",
        "\n",
        "model.add(keras.layers.Flatten())\n",
        "\n",
        "# model.add(keras.Input(shape=(3072,), name='input'))\n",
        "model.add(layers.Dense(256, name='dense1', kernel_initializer='he_normal', kernel_regularizer=l2(0.0005)))\n",
        "model.add(layers.BatchNormalization())\n",
        "model.add(layers.Activation('relu'))\n",
        "model.add(layers.Dropout(0.3))\n",
        "\n",
        "model.add(layers.Dense(128, name='dense2', kernel_initializer='he_normal', kernel_regularizer=l2(0.0005)))\n",
        "model.add(layers.BatchNormalization())\n",
        "model.add(layers.Activation('relu'))\n",
        "model.add(layers.Dropout(0.3))\n",
        "\n",
        "model.add(layers.Dense(10, activation='softmax', name='output'))\n",
        "\n",
        "model.compile(optimizer=optimizers.Adam(learning_rate=0.0001),\n",
        "              loss='sparse_categorical_crossentropy',\n",
        "              metrics=['accuracy'])\n",
        "\n",
        "# model.summary()\n",
        "# utils.plot_model(model, show_shapes=True)"
      ],
      "metadata": {
        "id": "0DQm-a4U1VmJ"
      },
      "execution_count": 96,
      "outputs": []
    },
    {
      "cell_type": "markdown",
      "source": [
        "모델 학습\n",
        "___\n",
        "ModelCheckpoint와 EarlyStopping 콜백 함수를 적용하여 모델 학습을 진행합니다."
      ],
      "metadata": {
        "id": "PZRBKf9L6NCZ"
      }
    },
    {
      "cell_type": "code",
      "source": [
        "# 문제 2-4: ModelCheckpoint와 EarlyStopping 콜백 함수를 적용하여 모델 학습을 진행합니다.\n",
        "from tensorflow.keras import callbacks\n",
        "\n",
        "check_point_cb = callbacks.ModelCheckpoint('cifar10_model.keras',\n",
        "                                           save_best_only=True)\n",
        "\n",
        "early_stopping_cb = callbacks.EarlyStopping(patience=10,\n",
        "                                            monitor='val_loss',\n",
        "                                            restore_best_weights=True)\n",
        "\n",
        "history = model.fit(x_train, y_train,\n",
        "                    epochs=100,\n",
        "                    batch_size=256,\n",
        "                    validation_data=(x_val, y_val),\n",
        "                    callbacks=[check_point_cb, early_stopping_cb])"
      ],
      "metadata": {
        "colab": {
          "base_uri": "https://localhost:8080/"
        },
        "id": "KSwQkPd-6IO9",
        "outputId": "cab72c82-7b3a-4ece-f420-8f4af6cce74c"
      },
      "execution_count": 97,
      "outputs": [
        {
          "output_type": "stream",
          "name": "stdout",
          "text": [
            "Epoch 1/100\n",
            "\u001b[1m157/157\u001b[0m \u001b[32m━━━━━━━━━━━━━━━━━━━━\u001b[0m\u001b[37m\u001b[0m \u001b[1m29s\u001b[0m 101ms/step - accuracy: 0.1480 - loss: 3.1353 - val_accuracy: 0.1067 - val_loss: 3.1060\n",
            "Epoch 2/100\n",
            "\u001b[1m157/157\u001b[0m \u001b[32m━━━━━━━━━━━━━━━━━━━━\u001b[0m\u001b[37m\u001b[0m \u001b[1m5s\u001b[0m 32ms/step - accuracy: 0.2801 - loss: 2.5616 - val_accuracy: 0.1222 - val_loss: 3.3132\n",
            "Epoch 3/100\n",
            "\u001b[1m157/157\u001b[0m \u001b[32m━━━━━━━━━━━━━━━━━━━━\u001b[0m\u001b[37m\u001b[0m \u001b[1m5s\u001b[0m 32ms/step - accuracy: 0.3350 - loss: 2.3751 - val_accuracy: 0.1544 - val_loss: 3.2039\n",
            "Epoch 4/100\n",
            "\u001b[1m157/157\u001b[0m \u001b[32m━━━━━━━━━━━━━━━━━━━━\u001b[0m\u001b[37m\u001b[0m \u001b[1m5s\u001b[0m 33ms/step - accuracy: 0.3819 - loss: 2.2424 - val_accuracy: 0.2683 - val_loss: 2.6907\n",
            "Epoch 5/100\n",
            "\u001b[1m157/157\u001b[0m \u001b[32m━━━━━━━━━━━━━━━━━━━━\u001b[0m\u001b[37m\u001b[0m \u001b[1m5s\u001b[0m 34ms/step - accuracy: 0.4113 - loss: 2.1506 - val_accuracy: 0.3651 - val_loss: 2.3821\n",
            "Epoch 6/100\n",
            "\u001b[1m157/157\u001b[0m \u001b[32m━━━━━━━━━━━━━━━━━━━━\u001b[0m\u001b[37m\u001b[0m \u001b[1m5s\u001b[0m 34ms/step - accuracy: 0.4419 - loss: 2.0541 - val_accuracy: 0.3735 - val_loss: 2.3498\n",
            "Epoch 7/100\n",
            "\u001b[1m157/157\u001b[0m \u001b[32m━━━━━━━━━━━━━━━━━━━━\u001b[0m\u001b[37m\u001b[0m \u001b[1m5s\u001b[0m 33ms/step - accuracy: 0.4668 - loss: 1.9997 - val_accuracy: 0.3810 - val_loss: 2.3266\n",
            "Epoch 8/100\n",
            "\u001b[1m157/157\u001b[0m \u001b[32m━━━━━━━━━━━━━━━━━━━━\u001b[0m\u001b[37m\u001b[0m \u001b[1m5s\u001b[0m 33ms/step - accuracy: 0.4841 - loss: 1.9398 - val_accuracy: 0.4125 - val_loss: 2.2186\n",
            "Epoch 9/100\n",
            "\u001b[1m157/157\u001b[0m \u001b[32m━━━━━━━━━━━━━━━━━━━━\u001b[0m\u001b[37m\u001b[0m \u001b[1m5s\u001b[0m 33ms/step - accuracy: 0.5036 - loss: 1.8876 - val_accuracy: 0.4309 - val_loss: 2.1642\n",
            "Epoch 10/100\n",
            "\u001b[1m157/157\u001b[0m \u001b[32m━━━━━━━━━━━━━━━━━━━━\u001b[0m\u001b[37m\u001b[0m \u001b[1m5s\u001b[0m 32ms/step - accuracy: 0.5223 - loss: 1.8283 - val_accuracy: 0.4273 - val_loss: 2.1991\n",
            "Epoch 11/100\n",
            "\u001b[1m157/157\u001b[0m \u001b[32m━━━━━━━━━━━━━━━━━━━━\u001b[0m\u001b[37m\u001b[0m \u001b[1m5s\u001b[0m 32ms/step - accuracy: 0.5383 - loss: 1.7746 - val_accuracy: 0.4601 - val_loss: 2.0685\n",
            "Epoch 12/100\n",
            "\u001b[1m157/157\u001b[0m \u001b[32m━━━━━━━━━━━━━━━━━━━━\u001b[0m\u001b[37m\u001b[0m \u001b[1m5s\u001b[0m 33ms/step - accuracy: 0.5563 - loss: 1.7293 - val_accuracy: 0.4857 - val_loss: 1.9931\n",
            "Epoch 13/100\n",
            "\u001b[1m157/157\u001b[0m \u001b[32m━━━━━━━━━━━━━━━━━━━━\u001b[0m\u001b[37m\u001b[0m \u001b[1m5s\u001b[0m 32ms/step - accuracy: 0.5765 - loss: 1.6715 - val_accuracy: 0.5261 - val_loss: 1.8445\n",
            "Epoch 14/100\n",
            "\u001b[1m157/157\u001b[0m \u001b[32m━━━━━━━━━━━━━━━━━━━━\u001b[0m\u001b[37m\u001b[0m \u001b[1m5s\u001b[0m 35ms/step - accuracy: 0.5893 - loss: 1.6296 - val_accuracy: 0.5613 - val_loss: 1.7258\n",
            "Epoch 15/100\n",
            "\u001b[1m157/157\u001b[0m \u001b[32m━━━━━━━━━━━━━━━━━━━━\u001b[0m\u001b[37m\u001b[0m \u001b[1m5s\u001b[0m 31ms/step - accuracy: 0.6024 - loss: 1.5897 - val_accuracy: 0.5453 - val_loss: 1.7707\n",
            "Epoch 16/100\n",
            "\u001b[1m157/157\u001b[0m \u001b[32m━━━━━━━━━━━━━━━━━━━━\u001b[0m\u001b[37m\u001b[0m \u001b[1m5s\u001b[0m 32ms/step - accuracy: 0.6158 - loss: 1.5453 - val_accuracy: 0.5924 - val_loss: 1.6180\n",
            "Epoch 17/100\n",
            "\u001b[1m157/157\u001b[0m \u001b[32m━━━━━━━━━━━━━━━━━━━━\u001b[0m\u001b[37m\u001b[0m \u001b[1m5s\u001b[0m 33ms/step - accuracy: 0.6268 - loss: 1.5139 - val_accuracy: 0.6276 - val_loss: 1.4916\n",
            "Epoch 18/100\n",
            "\u001b[1m157/157\u001b[0m \u001b[32m━━━━━━━━━━━━━━━━━━━━\u001b[0m\u001b[37m\u001b[0m \u001b[1m5s\u001b[0m 31ms/step - accuracy: 0.6398 - loss: 1.4705 - val_accuracy: 0.6268 - val_loss: 1.5071\n",
            "Epoch 19/100\n",
            "\u001b[1m157/157\u001b[0m \u001b[32m━━━━━━━━━━━━━━━━━━━━\u001b[0m\u001b[37m\u001b[0m \u001b[1m5s\u001b[0m 33ms/step - accuracy: 0.6467 - loss: 1.4377 - val_accuracy: 0.6288 - val_loss: 1.4903\n",
            "Epoch 20/100\n",
            "\u001b[1m157/157\u001b[0m \u001b[32m━━━━━━━━━━━━━━━━━━━━\u001b[0m\u001b[37m\u001b[0m \u001b[1m5s\u001b[0m 32ms/step - accuracy: 0.6584 - loss: 1.4036 - val_accuracy: 0.6506 - val_loss: 1.4272\n",
            "Epoch 21/100\n",
            "\u001b[1m157/157\u001b[0m \u001b[32m━━━━━━━━━━━━━━━━━━━━\u001b[0m\u001b[37m\u001b[0m \u001b[1m5s\u001b[0m 33ms/step - accuracy: 0.6605 - loss: 1.3804 - val_accuracy: 0.6704 - val_loss: 1.3727\n",
            "Epoch 22/100\n",
            "\u001b[1m157/157\u001b[0m \u001b[32m━━━━━━━━━━━━━━━━━━━━\u001b[0m\u001b[37m\u001b[0m \u001b[1m5s\u001b[0m 32ms/step - accuracy: 0.6734 - loss: 1.3471 - val_accuracy: 0.6586 - val_loss: 1.3993\n",
            "Epoch 23/100\n",
            "\u001b[1m157/157\u001b[0m \u001b[32m━━━━━━━━━━━━━━━━━━━━\u001b[0m\u001b[37m\u001b[0m \u001b[1m5s\u001b[0m 31ms/step - accuracy: 0.6820 - loss: 1.3244 - val_accuracy: 0.6602 - val_loss: 1.3838\n",
            "Epoch 24/100\n",
            "\u001b[1m157/157\u001b[0m \u001b[32m━━━━━━━━━━━━━━━━━━━━\u001b[0m\u001b[37m\u001b[0m \u001b[1m5s\u001b[0m 33ms/step - accuracy: 0.6878 - loss: 1.2939 - val_accuracy: 0.6763 - val_loss: 1.3380\n",
            "Epoch 25/100\n",
            "\u001b[1m157/157\u001b[0m \u001b[32m━━━━━━━━━━━━━━━━━━━━\u001b[0m\u001b[37m\u001b[0m \u001b[1m5s\u001b[0m 32ms/step - accuracy: 0.6958 - loss: 1.2707 - val_accuracy: 0.6947 - val_loss: 1.2691\n",
            "Epoch 26/100\n",
            "\u001b[1m157/157\u001b[0m \u001b[32m━━━━━━━━━━━━━━━━━━━━\u001b[0m\u001b[37m\u001b[0m \u001b[1m5s\u001b[0m 33ms/step - accuracy: 0.6997 - loss: 1.2489 - val_accuracy: 0.7031 - val_loss: 1.2355\n",
            "Epoch 27/100\n",
            "\u001b[1m157/157\u001b[0m \u001b[32m━━━━━━━━━━━━━━━━━━━━\u001b[0m\u001b[37m\u001b[0m \u001b[1m5s\u001b[0m 33ms/step - accuracy: 0.7056 - loss: 1.2237 - val_accuracy: 0.7125 - val_loss: 1.2033\n",
            "Epoch 28/100\n",
            "\u001b[1m157/157\u001b[0m \u001b[32m━━━━━━━━━━━━━━━━━━━━\u001b[0m\u001b[37m\u001b[0m \u001b[1m5s\u001b[0m 32ms/step - accuracy: 0.7179 - loss: 1.1977 - val_accuracy: 0.7024 - val_loss: 1.2366\n",
            "Epoch 29/100\n",
            "\u001b[1m157/157\u001b[0m \u001b[32m━━━━━━━━━━━━━━━━━━━━\u001b[0m\u001b[37m\u001b[0m \u001b[1m5s\u001b[0m 33ms/step - accuracy: 0.7236 - loss: 1.1772 - val_accuracy: 0.7210 - val_loss: 1.1674\n",
            "Epoch 30/100\n",
            "\u001b[1m157/157\u001b[0m \u001b[32m━━━━━━━━━━━━━━━━━━━━\u001b[0m\u001b[37m\u001b[0m \u001b[1m5s\u001b[0m 32ms/step - accuracy: 0.7241 - loss: 1.1520 - val_accuracy: 0.7106 - val_loss: 1.1845\n",
            "Epoch 31/100\n",
            "\u001b[1m157/157\u001b[0m \u001b[32m━━━━━━━━━━━━━━━━━━━━\u001b[0m\u001b[37m\u001b[0m \u001b[1m5s\u001b[0m 33ms/step - accuracy: 0.7310 - loss: 1.1328 - val_accuracy: 0.7353 - val_loss: 1.1043\n",
            "Epoch 32/100\n",
            "\u001b[1m157/157\u001b[0m \u001b[32m━━━━━━━━━━━━━━━━━━━━\u001b[0m\u001b[37m\u001b[0m \u001b[1m5s\u001b[0m 31ms/step - accuracy: 0.7320 - loss: 1.1220 - val_accuracy: 0.7098 - val_loss: 1.1702\n",
            "Epoch 33/100\n",
            "\u001b[1m157/157\u001b[0m \u001b[32m━━━━━━━━━━━━━━━━━━━━\u001b[0m\u001b[37m\u001b[0m \u001b[1m5s\u001b[0m 33ms/step - accuracy: 0.7384 - loss: 1.0956 - val_accuracy: 0.7217 - val_loss: 1.1348\n",
            "Epoch 34/100\n",
            "\u001b[1m157/157\u001b[0m \u001b[32m━━━━━━━━━━━━━━━━━━━━\u001b[0m\u001b[37m\u001b[0m \u001b[1m5s\u001b[0m 33ms/step - accuracy: 0.7434 - loss: 1.0778 - val_accuracy: 0.7482 - val_loss: 1.0580\n",
            "Epoch 35/100\n",
            "\u001b[1m157/157\u001b[0m \u001b[32m━━━━━━━━━━━━━━━━━━━━\u001b[0m\u001b[37m\u001b[0m \u001b[1m6s\u001b[0m 36ms/step - accuracy: 0.7462 - loss: 1.0596 - val_accuracy: 0.7525 - val_loss: 1.0426\n",
            "Epoch 36/100\n",
            "\u001b[1m157/157\u001b[0m \u001b[32m━━━━━━━━━━━━━━━━━━━━\u001b[0m\u001b[37m\u001b[0m \u001b[1m5s\u001b[0m 33ms/step - accuracy: 0.7515 - loss: 1.0484 - val_accuracy: 0.7469 - val_loss: 1.0484\n",
            "Epoch 37/100\n",
            "\u001b[1m157/157\u001b[0m \u001b[32m━━━━━━━━━━━━━━━━━━━━\u001b[0m\u001b[37m\u001b[0m \u001b[1m5s\u001b[0m 32ms/step - accuracy: 0.7543 - loss: 1.0258 - val_accuracy: 0.7608 - val_loss: 1.0045\n",
            "Epoch 38/100\n",
            "\u001b[1m157/157\u001b[0m \u001b[32m━━━━━━━━━━━━━━━━━━━━\u001b[0m\u001b[37m\u001b[0m \u001b[1m5s\u001b[0m 34ms/step - accuracy: 0.7591 - loss: 1.0133 - val_accuracy: 0.7631 - val_loss: 0.9957\n",
            "Epoch 39/100\n",
            "\u001b[1m157/157\u001b[0m \u001b[32m━━━━━━━━━━━━━━━━━━━━\u001b[0m\u001b[37m\u001b[0m \u001b[1m6s\u001b[0m 35ms/step - accuracy: 0.7620 - loss: 0.9999 - val_accuracy: 0.7633 - val_loss: 0.9873\n",
            "Epoch 40/100\n",
            "\u001b[1m157/157\u001b[0m \u001b[32m━━━━━━━━━━━━━━━━━━━━\u001b[0m\u001b[37m\u001b[0m \u001b[1m6s\u001b[0m 37ms/step - accuracy: 0.7644 - loss: 0.9830 - val_accuracy: 0.7639 - val_loss: 0.9939\n",
            "Epoch 41/100\n",
            "\u001b[1m157/157\u001b[0m \u001b[32m━━━━━━━━━━━━━━━━━━━━\u001b[0m\u001b[37m\u001b[0m \u001b[1m5s\u001b[0m 33ms/step - accuracy: 0.7704 - loss: 0.9661 - val_accuracy: 0.7487 - val_loss: 1.0277\n",
            "Epoch 42/100\n",
            "\u001b[1m157/157\u001b[0m \u001b[32m━━━━━━━━━━━━━━━━━━━━\u001b[0m\u001b[37m\u001b[0m \u001b[1m5s\u001b[0m 35ms/step - accuracy: 0.7700 - loss: 0.9580 - val_accuracy: 0.7711 - val_loss: 0.9546\n",
            "Epoch 43/100\n",
            "\u001b[1m157/157\u001b[0m \u001b[32m━━━━━━━━━━━━━━━━━━━━\u001b[0m\u001b[37m\u001b[0m \u001b[1m5s\u001b[0m 33ms/step - accuracy: 0.7767 - loss: 0.9407 - val_accuracy: 0.7653 - val_loss: 0.9691\n",
            "Epoch 44/100\n",
            "\u001b[1m157/157\u001b[0m \u001b[32m━━━━━━━━━━━━━━━━━━━━\u001b[0m\u001b[37m\u001b[0m \u001b[1m5s\u001b[0m 33ms/step - accuracy: 0.7823 - loss: 0.9230 - val_accuracy: 0.7755 - val_loss: 0.9395\n",
            "Epoch 45/100\n",
            "\u001b[1m157/157\u001b[0m \u001b[32m━━━━━━━━━━━━━━━━━━━━\u001b[0m\u001b[37m\u001b[0m \u001b[1m5s\u001b[0m 32ms/step - accuracy: 0.7813 - loss: 0.9195 - val_accuracy: 0.7738 - val_loss: 0.9436\n",
            "Epoch 46/100\n",
            "\u001b[1m157/157\u001b[0m \u001b[32m━━━━━━━━━━━━━━━━━━━━\u001b[0m\u001b[37m\u001b[0m \u001b[1m6s\u001b[0m 36ms/step - accuracy: 0.7872 - loss: 0.8996 - val_accuracy: 0.7797 - val_loss: 0.9182\n",
            "Epoch 47/100\n",
            "\u001b[1m157/157\u001b[0m \u001b[32m━━━━━━━━━━━━━━━━━━━━\u001b[0m\u001b[37m\u001b[0m \u001b[1m10s\u001b[0m 35ms/step - accuracy: 0.7911 - loss: 0.8848 - val_accuracy: 0.7933 - val_loss: 0.8701\n",
            "Epoch 48/100\n",
            "\u001b[1m157/157\u001b[0m \u001b[32m━━━━━━━━━━━━━━━━━━━━\u001b[0m\u001b[37m\u001b[0m \u001b[1m5s\u001b[0m 35ms/step - accuracy: 0.7942 - loss: 0.8751 - val_accuracy: 0.7910 - val_loss: 0.8703\n",
            "Epoch 49/100\n",
            "\u001b[1m157/157\u001b[0m \u001b[32m━━━━━━━━━━━━━━━━━━━━\u001b[0m\u001b[37m\u001b[0m \u001b[1m6s\u001b[0m 36ms/step - accuracy: 0.7950 - loss: 0.8662 - val_accuracy: 0.7997 - val_loss: 0.8510\n",
            "Epoch 50/100\n",
            "\u001b[1m157/157\u001b[0m \u001b[32m━━━━━━━━━━━━━━━━━━━━\u001b[0m\u001b[37m\u001b[0m \u001b[1m10s\u001b[0m 33ms/step - accuracy: 0.7953 - loss: 0.8528 - val_accuracy: 0.7793 - val_loss: 0.9039\n",
            "Epoch 51/100\n",
            "\u001b[1m157/157\u001b[0m \u001b[32m━━━━━━━━━━━━━━━━━━━━\u001b[0m\u001b[37m\u001b[0m \u001b[1m5s\u001b[0m 32ms/step - accuracy: 0.8003 - loss: 0.8453 - val_accuracy: 0.7935 - val_loss: 0.8630\n",
            "Epoch 52/100\n",
            "\u001b[1m157/157\u001b[0m \u001b[32m━━━━━━━━━━━━━━━━━━━━\u001b[0m\u001b[37m\u001b[0m \u001b[1m6s\u001b[0m 35ms/step - accuracy: 0.8013 - loss: 0.8303 - val_accuracy: 0.7998 - val_loss: 0.8395\n",
            "Epoch 53/100\n",
            "\u001b[1m157/157\u001b[0m \u001b[32m━━━━━━━━━━━━━━━━━━━━\u001b[0m\u001b[37m\u001b[0m \u001b[1m5s\u001b[0m 32ms/step - accuracy: 0.8100 - loss: 0.8130 - val_accuracy: 0.7967 - val_loss: 0.8489\n",
            "Epoch 54/100\n",
            "\u001b[1m157/157\u001b[0m \u001b[32m━━━━━━━━━━━━━━━━━━━━\u001b[0m\u001b[37m\u001b[0m \u001b[1m5s\u001b[0m 34ms/step - accuracy: 0.8088 - loss: 0.8071 - val_accuracy: 0.7794 - val_loss: 0.8926\n",
            "Epoch 55/100\n",
            "\u001b[1m157/157\u001b[0m \u001b[32m━━━━━━━━━━━━━━━━━━━━\u001b[0m\u001b[37m\u001b[0m \u001b[1m5s\u001b[0m 32ms/step - accuracy: 0.8105 - loss: 0.8010 - val_accuracy: 0.7936 - val_loss: 0.8453\n",
            "Epoch 56/100\n",
            "\u001b[1m157/157\u001b[0m \u001b[32m━━━━━━━━━━━━━━━━━━━━\u001b[0m\u001b[37m\u001b[0m \u001b[1m5s\u001b[0m 34ms/step - accuracy: 0.8180 - loss: 0.7786 - val_accuracy: 0.7886 - val_loss: 0.8645\n",
            "Epoch 57/100\n",
            "\u001b[1m157/157\u001b[0m \u001b[32m━━━━━━━━━━━━━━━━━━━━\u001b[0m\u001b[37m\u001b[0m \u001b[1m5s\u001b[0m 33ms/step - accuracy: 0.8113 - loss: 0.7781 - val_accuracy: 0.7936 - val_loss: 0.8350\n",
            "Epoch 58/100\n",
            "\u001b[1m157/157\u001b[0m \u001b[32m━━━━━━━━━━━━━━━━━━━━\u001b[0m\u001b[37m\u001b[0m \u001b[1m5s\u001b[0m 32ms/step - accuracy: 0.8225 - loss: 0.7594 - val_accuracy: 0.7914 - val_loss: 0.8509\n",
            "Epoch 59/100\n",
            "\u001b[1m157/157\u001b[0m \u001b[32m━━━━━━━━━━━━━━━━━━━━\u001b[0m\u001b[37m\u001b[0m \u001b[1m5s\u001b[0m 32ms/step - accuracy: 0.8226 - loss: 0.7545 - val_accuracy: 0.7966 - val_loss: 0.8397\n",
            "Epoch 60/100\n",
            "\u001b[1m157/157\u001b[0m \u001b[32m━━━━━━━━━━━━━━━━━━━━\u001b[0m\u001b[37m\u001b[0m \u001b[1m5s\u001b[0m 32ms/step - accuracy: 0.8244 - loss: 0.7476 - val_accuracy: 0.8101 - val_loss: 0.7869\n",
            "Epoch 61/100\n",
            "\u001b[1m157/157\u001b[0m \u001b[32m━━━━━━━━━━━━━━━━━━━━\u001b[0m\u001b[37m\u001b[0m \u001b[1m5s\u001b[0m 33ms/step - accuracy: 0.8282 - loss: 0.7373 - val_accuracy: 0.8084 - val_loss: 0.7870\n",
            "Epoch 62/100\n",
            "\u001b[1m157/157\u001b[0m \u001b[32m━━━━━━━━━━━━━━━━━━━━\u001b[0m\u001b[37m\u001b[0m \u001b[1m5s\u001b[0m 32ms/step - accuracy: 0.8285 - loss: 0.7298 - val_accuracy: 0.8023 - val_loss: 0.8068\n",
            "Epoch 63/100\n",
            "\u001b[1m157/157\u001b[0m \u001b[32m━━━━━━━━━━━━━━━━━━━━\u001b[0m\u001b[37m\u001b[0m \u001b[1m5s\u001b[0m 33ms/step - accuracy: 0.8312 - loss: 0.7171 - val_accuracy: 0.8046 - val_loss: 0.8014\n",
            "Epoch 64/100\n",
            "\u001b[1m157/157\u001b[0m \u001b[32m━━━━━━━━━━━━━━━━━━━━\u001b[0m\u001b[37m\u001b[0m \u001b[1m6s\u001b[0m 35ms/step - accuracy: 0.8354 - loss: 0.7070 - val_accuracy: 0.8029 - val_loss: 0.8012\n",
            "Epoch 65/100\n",
            "\u001b[1m157/157\u001b[0m \u001b[32m━━━━━━━━━━━━━━━━━━━━\u001b[0m\u001b[37m\u001b[0m \u001b[1m5s\u001b[0m 33ms/step - accuracy: 0.8327 - loss: 0.7044 - val_accuracy: 0.7961 - val_loss: 0.8244\n",
            "Epoch 66/100\n",
            "\u001b[1m157/157\u001b[0m \u001b[32m━━━━━━━━━━━━━━━━━━━━\u001b[0m\u001b[37m\u001b[0m \u001b[1m6s\u001b[0m 35ms/step - accuracy: 0.8358 - loss: 0.6979 - val_accuracy: 0.8156 - val_loss: 0.7582\n",
            "Epoch 67/100\n",
            "\u001b[1m157/157\u001b[0m \u001b[32m━━━━━━━━━━━━━━━━━━━━\u001b[0m\u001b[37m\u001b[0m \u001b[1m5s\u001b[0m 34ms/step - accuracy: 0.8392 - loss: 0.6868 - val_accuracy: 0.8139 - val_loss: 0.7658\n",
            "Epoch 68/100\n",
            "\u001b[1m157/157\u001b[0m \u001b[32m━━━━━━━━━━━━━━━━━━━━\u001b[0m\u001b[37m\u001b[0m \u001b[1m10s\u001b[0m 33ms/step - accuracy: 0.8384 - loss: 0.6766 - val_accuracy: 0.7971 - val_loss: 0.8177\n",
            "Epoch 69/100\n",
            "\u001b[1m157/157\u001b[0m \u001b[32m━━━━━━━━━━━━━━━━━━━━\u001b[0m\u001b[37m\u001b[0m \u001b[1m6s\u001b[0m 36ms/step - accuracy: 0.8424 - loss: 0.6698 - val_accuracy: 0.8184 - val_loss: 0.7514\n",
            "Epoch 70/100\n",
            "\u001b[1m157/157\u001b[0m \u001b[32m━━━━━━━━━━━━━━━━━━━━\u001b[0m\u001b[37m\u001b[0m \u001b[1m5s\u001b[0m 33ms/step - accuracy: 0.8443 - loss: 0.6664 - val_accuracy: 0.8163 - val_loss: 0.7503\n",
            "Epoch 71/100\n",
            "\u001b[1m157/157\u001b[0m \u001b[32m━━━━━━━━━━━━━━━━━━━━\u001b[0m\u001b[37m\u001b[0m \u001b[1m5s\u001b[0m 32ms/step - accuracy: 0.8498 - loss: 0.6503 - val_accuracy: 0.8114 - val_loss: 0.7662\n",
            "Epoch 72/100\n",
            "\u001b[1m157/157\u001b[0m \u001b[32m━━━━━━━━━━━━━━━━━━━━\u001b[0m\u001b[37m\u001b[0m \u001b[1m5s\u001b[0m 33ms/step - accuracy: 0.8497 - loss: 0.6484 - val_accuracy: 0.8154 - val_loss: 0.7561\n",
            "Epoch 73/100\n",
            "\u001b[1m157/157\u001b[0m \u001b[32m━━━━━━━━━━━━━━━━━━━━\u001b[0m\u001b[37m\u001b[0m \u001b[1m5s\u001b[0m 33ms/step - accuracy: 0.8489 - loss: 0.6449 - val_accuracy: 0.8026 - val_loss: 0.7942\n",
            "Epoch 74/100\n",
            "\u001b[1m157/157\u001b[0m \u001b[32m━━━━━━━━━━━━━━━━━━━━\u001b[0m\u001b[37m\u001b[0m \u001b[1m5s\u001b[0m 33ms/step - accuracy: 0.8526 - loss: 0.6321 - val_accuracy: 0.8152 - val_loss: 0.7537\n",
            "Epoch 75/100\n",
            "\u001b[1m157/157\u001b[0m \u001b[32m━━━━━━━━━━━━━━━━━━━━\u001b[0m\u001b[37m\u001b[0m \u001b[1m5s\u001b[0m 33ms/step - accuracy: 0.8584 - loss: 0.6231 - val_accuracy: 0.8145 - val_loss: 0.7537\n",
            "Epoch 76/100\n",
            "\u001b[1m157/157\u001b[0m \u001b[32m━━━━━━━━━━━━━━━━━━━━\u001b[0m\u001b[37m\u001b[0m \u001b[1m6s\u001b[0m 35ms/step - accuracy: 0.8550 - loss: 0.6181 - val_accuracy: 0.8160 - val_loss: 0.7472\n",
            "Epoch 77/100\n",
            "\u001b[1m157/157\u001b[0m \u001b[32m━━━━━━━━━━━━━━━━━━━━\u001b[0m\u001b[37m\u001b[0m \u001b[1m5s\u001b[0m 31ms/step - accuracy: 0.8572 - loss: 0.6114 - val_accuracy: 0.8102 - val_loss: 0.7629\n",
            "Epoch 78/100\n",
            "\u001b[1m157/157\u001b[0m \u001b[32m━━━━━━━━━━━━━━━━━━━━\u001b[0m\u001b[37m\u001b[0m \u001b[1m5s\u001b[0m 33ms/step - accuracy: 0.8642 - loss: 0.5944 - val_accuracy: 0.8245 - val_loss: 0.7235\n",
            "Epoch 79/100\n",
            "\u001b[1m157/157\u001b[0m \u001b[32m━━━━━━━━━━━━━━━━━━━━\u001b[0m\u001b[37m\u001b[0m \u001b[1m5s\u001b[0m 32ms/step - accuracy: 0.8618 - loss: 0.6026 - val_accuracy: 0.8138 - val_loss: 0.7438\n",
            "Epoch 80/100\n",
            "\u001b[1m157/157\u001b[0m \u001b[32m━━━━━━━━━━━━━━━━━━━━\u001b[0m\u001b[37m\u001b[0m \u001b[1m5s\u001b[0m 34ms/step - accuracy: 0.8628 - loss: 0.5942 - val_accuracy: 0.8238 - val_loss: 0.7176\n",
            "Epoch 81/100\n",
            "\u001b[1m157/157\u001b[0m \u001b[32m━━━━━━━━━━━━━━━━━━━━\u001b[0m\u001b[37m\u001b[0m \u001b[1m5s\u001b[0m 33ms/step - accuracy: 0.8653 - loss: 0.5869 - val_accuracy: 0.8219 - val_loss: 0.7309\n",
            "Epoch 82/100\n",
            "\u001b[1m157/157\u001b[0m \u001b[32m━━━━━━━━━━━━━━━━━━━━\u001b[0m\u001b[37m\u001b[0m \u001b[1m5s\u001b[0m 32ms/step - accuracy: 0.8664 - loss: 0.5808 - val_accuracy: 0.8175 - val_loss: 0.7409\n",
            "Epoch 83/100\n",
            "\u001b[1m157/157\u001b[0m \u001b[32m━━━━━━━━━━━━━━━━━━━━\u001b[0m\u001b[37m\u001b[0m \u001b[1m6s\u001b[0m 35ms/step - accuracy: 0.8664 - loss: 0.5754 - val_accuracy: 0.8188 - val_loss: 0.7381\n",
            "Epoch 84/100\n",
            "\u001b[1m157/157\u001b[0m \u001b[32m━━━━━━━━━━━━━━━━━━━━\u001b[0m\u001b[37m\u001b[0m \u001b[1m10s\u001b[0m 33ms/step - accuracy: 0.8712 - loss: 0.5658 - val_accuracy: 0.8234 - val_loss: 0.7190\n",
            "Epoch 85/100\n",
            "\u001b[1m157/157\u001b[0m \u001b[32m━━━━━━━━━━━━━━━━━━━━\u001b[0m\u001b[37m\u001b[0m \u001b[1m5s\u001b[0m 33ms/step - accuracy: 0.8710 - loss: 0.5642 - val_accuracy: 0.8135 - val_loss: 0.7469\n",
            "Epoch 86/100\n",
            "\u001b[1m157/157\u001b[0m \u001b[32m━━━━━━━━━━━━━━━━━━━━\u001b[0m\u001b[37m\u001b[0m \u001b[1m5s\u001b[0m 34ms/step - accuracy: 0.8748 - loss: 0.5527 - val_accuracy: 0.8306 - val_loss: 0.6913\n",
            "Epoch 87/100\n",
            "\u001b[1m157/157\u001b[0m \u001b[32m━━━━━━━━━━━━━━━━━━━━\u001b[0m\u001b[37m\u001b[0m \u001b[1m5s\u001b[0m 34ms/step - accuracy: 0.8740 - loss: 0.5530 - val_accuracy: 0.8288 - val_loss: 0.6993\n",
            "Epoch 88/100\n",
            "\u001b[1m157/157\u001b[0m \u001b[32m━━━━━━━━━━━━━━━━━━━━\u001b[0m\u001b[37m\u001b[0m \u001b[1m5s\u001b[0m 32ms/step - accuracy: 0.8749 - loss: 0.5451 - val_accuracy: 0.8266 - val_loss: 0.7100\n",
            "Epoch 89/100\n",
            "\u001b[1m157/157\u001b[0m \u001b[32m━━━━━━━━━━━━━━━━━━━━\u001b[0m\u001b[37m\u001b[0m \u001b[1m6s\u001b[0m 36ms/step - accuracy: 0.8784 - loss: 0.5382 - val_accuracy: 0.8329 - val_loss: 0.6885\n",
            "Epoch 90/100\n",
            "\u001b[1m157/157\u001b[0m \u001b[32m━━━━━━━━━━━━━━━━━━━━\u001b[0m\u001b[37m\u001b[0m \u001b[1m5s\u001b[0m 33ms/step - accuracy: 0.8755 - loss: 0.5363 - val_accuracy: 0.8242 - val_loss: 0.7226\n",
            "Epoch 91/100\n",
            "\u001b[1m157/157\u001b[0m \u001b[32m━━━━━━━━━━━━━━━━━━━━\u001b[0m\u001b[37m\u001b[0m \u001b[1m5s\u001b[0m 32ms/step - accuracy: 0.8818 - loss: 0.5253 - val_accuracy: 0.8343 - val_loss: 0.6913\n",
            "Epoch 92/100\n",
            "\u001b[1m157/157\u001b[0m \u001b[32m━━━━━━━━━━━━━━━━━━━━\u001b[0m\u001b[37m\u001b[0m \u001b[1m5s\u001b[0m 33ms/step - accuracy: 0.8823 - loss: 0.5224 - val_accuracy: 0.8318 - val_loss: 0.6889\n",
            "Epoch 93/100\n",
            "\u001b[1m157/157\u001b[0m \u001b[32m━━━━━━━━━━━━━━━━━━━━\u001b[0m\u001b[37m\u001b[0m \u001b[1m5s\u001b[0m 32ms/step - accuracy: 0.8815 - loss: 0.5216 - val_accuracy: 0.8187 - val_loss: 0.7415\n",
            "Epoch 94/100\n",
            "\u001b[1m157/157\u001b[0m \u001b[32m━━━━━━━━━━━━━━━━━━━━\u001b[0m\u001b[37m\u001b[0m \u001b[1m6s\u001b[0m 36ms/step - accuracy: 0.8836 - loss: 0.5129 - val_accuracy: 0.8358 - val_loss: 0.6761\n",
            "Epoch 95/100\n",
            "\u001b[1m157/157\u001b[0m \u001b[32m━━━━━━━━━━━━━━━━━━━━\u001b[0m\u001b[37m\u001b[0m \u001b[1m5s\u001b[0m 33ms/step - accuracy: 0.8864 - loss: 0.5055 - val_accuracy: 0.8248 - val_loss: 0.7230\n",
            "Epoch 96/100\n",
            "\u001b[1m157/157\u001b[0m \u001b[32m━━━━━━━━━━━━━━━━━━━━\u001b[0m\u001b[37m\u001b[0m \u001b[1m5s\u001b[0m 34ms/step - accuracy: 0.8864 - loss: 0.5008 - val_accuracy: 0.8349 - val_loss: 0.6816\n",
            "Epoch 97/100\n",
            "\u001b[1m157/157\u001b[0m \u001b[32m━━━━━━━━━━━━━━━━━━━━\u001b[0m\u001b[37m\u001b[0m \u001b[1m5s\u001b[0m 33ms/step - accuracy: 0.8867 - loss: 0.4974 - val_accuracy: 0.8360 - val_loss: 0.6809\n",
            "Epoch 98/100\n",
            "\u001b[1m157/157\u001b[0m \u001b[32m━━━━━━━━━━━━━━━━━━━━\u001b[0m\u001b[37m\u001b[0m \u001b[1m5s\u001b[0m 33ms/step - accuracy: 0.8859 - loss: 0.5003 - val_accuracy: 0.8354 - val_loss: 0.6832\n",
            "Epoch 99/100\n",
            "\u001b[1m157/157\u001b[0m \u001b[32m━━━━━━━━━━━━━━━━━━━━\u001b[0m\u001b[37m\u001b[0m \u001b[1m6s\u001b[0m 35ms/step - accuracy: 0.8900 - loss: 0.4881 - val_accuracy: 0.8390 - val_loss: 0.6704\n",
            "Epoch 100/100\n",
            "\u001b[1m157/157\u001b[0m \u001b[32m━━━━━━━━━━━━━━━━━━━━\u001b[0m\u001b[37m\u001b[0m \u001b[1m5s\u001b[0m 32ms/step - accuracy: 0.8899 - loss: 0.4872 - val_accuracy: 0.8251 - val_loss: 0.7124\n"
          ]
        }
      ]
    },
    {
      "cell_type": "markdown",
      "source": [
        "- 학습 히스토리의 loss, val_loss, accuracy, val_accuracy를 차트로 시각화합니다.\n",
        "\n",
        "\n",
        "\n"
      ],
      "metadata": {
        "id": "X9WSaLDm672q"
      }
    },
    {
      "cell_type": "code",
      "source": [
        "# 학습 히스토리의 `loss`, `val_loss`, `accuracy`, `val_accuracy`를 차트로 시각화합니다.\n",
        "plt.style.use('seaborn-v0_8-white')\n",
        "\n",
        "history_dict = history.history\n",
        "\n",
        "loss = history_dict['loss']\n",
        "val_loss = history_dict['val_loss']\n",
        "\n",
        "epochs = range(1, len(loss) + 1)\n",
        "fig = plt.figure(figsize=(12, 5))\n",
        "\n",
        "ax1 = fig.add_subplot(1, 2, 1)\n",
        "ax1.plot(epochs, loss, 'b-', label='train_loss')\n",
        "ax1.plot(epochs, val_loss, 'r-', label='val_loss')\n",
        "ax1.set_title('Train and Validation Loss')\n",
        "ax1.set_xlabel('Epochs')\n",
        "ax1.set_ylabel('Loss')\n",
        "ax1.grid()\n",
        "ax1.legend()\n",
        "\n",
        "accuracy = history_dict['accuracy']\n",
        "val_accuracy = history_dict['val_accuracy']\n",
        "\n",
        "ax2 = fig.add_subplot(1, 2, 2)\n",
        "ax2.plot(epochs, accuracy, 'b-', label='train_accuracy')\n",
        "ax2.plot(epochs, val_accuracy, 'r-', label='val_accuracy')\n",
        "ax2.set_title('Train and Validation Accuracy')\n",
        "ax2.set_xlabel('Epochs')\n",
        "ax2.set_ylabel('Accuracy')\n",
        "ax2.grid()\n",
        "ax2.legend()\n",
        "\n",
        "plt.show()"
      ],
      "metadata": {
        "colab": {
          "base_uri": "https://localhost:8080/",
          "height": 480
        },
        "id": "KCNcHy_m67TU",
        "outputId": "cfed324e-a206-4c39-b7ed-0785c6237d2c"
      },
      "execution_count": 98,
      "outputs": [
        {
          "output_type": "display_data",
          "data": {
            "text/plain": [
              "<Figure size 1200x500 with 2 Axes>"
            ],
            "image/png": "[encoded data removed]"
          },
          "metadata": {}
        }
      ]
    },
    {
      "cell_type": "markdown",
      "source": [
        "### 모델 평가 및 예측\n",
        "___\n",
        "- 테스트 데이터셋을 이용해 모델을 평가합니다."
      ],
      "metadata": {
        "id": "8e90SxJl7EJs"
      }
    },
    {
      "cell_type": "code",
      "source": [
        "# 테스트 데이터셋을 이용해 모델을 평가합니다.\n",
        "loss, acc = model.evaluate(x_test, y_test)\n",
        "\n",
        "print(f'loss: {loss:.4f}, accuracy: {acc:.4f}')"
      ],
      "metadata": {
        "colab": {
          "base_uri": "https://localhost:8080/"
        },
        "id": "YQBDvRCc7FEc",
        "outputId": "41a255b9-8ff5-434b-b157-589e1e860b62"
      },
      "execution_count": 99,
      "outputs": [
        {
          "output_type": "stream",
          "name": "stdout",
          "text": [
            "\u001b[1m313/313\u001b[0m \u001b[32m━━━━━━━━━━━━━━━━━━━━\u001b[0m\u001b[37m\u001b[0m \u001b[1m4s\u001b[0m 5ms/step - accuracy: 0.8410 - loss: 0.6988\n",
            "loss: 0.6966, accuracy: 0.8363\n"
          ]
        }
      ]
    },
    {
      "cell_type": "markdown",
      "source": [
        "튜닝 기록\n",
        "___\n",
        "- base: loss: 1.4399, accuracy: 0.4887\n",
        "    - 이미지 분류를 위해 Dense 레이어만으로 분류를 수행하는 것이 의미없다고 판단하여 과감히 CNN구조로 전환하였습니다.\n",
        "- CNN_base(CNN구조): loss: 1.0801, accuracy: 0.6730\n",
        "    - 기존 base보다 성능이 좋아졌지만 여전히 부족한 성능이며, overfitting 상태로 보입니다.\n",
        "- 튜닝1(CNN 레이어에 dropout(0.2) 추가) : loss: 0.6463, accuracy: 0.7787\n",
        "    - dropout을 추가 후 training-validation 차이는 줄었지만 여전히 accuracy가 낮습니다.\n",
        "- 튜닝2(옵티마이저의 학습률 조정(0.0005)) : loss: 0.6801, accuracy: 0.7634\n",
        "    - 학습률을 낮추고 epoch를 늘리는 방향으로 재학습하였지만 여전히 성능향상은 없었습니다.\n",
        "- 튜닝3(배치 크기 조정(128)) : loss: 0.6765, accuracy: 0.7678\n",
        "    - overfitting 상태로 보입니다.\n",
        "- 튜닝4(L2 규제 추가) : loss: 0.7156, accuracy: 0.7730\n",
        "- 튜닝5(옵티마이저의 학습률 조정(0.00001)) : loss: 0.6891, accuracy: 0.7781\n",
        "    - 추가 성능향상은 어렵다고 판단됩니다.\n",
        "    - 이에, 쳇봇에게 자문을 구한 결과, 쳇봇은 (1) transformer 도입 또는 (2) VGG스타일의 CNN블록 추가를 제안하였습니다.\n",
        "    - transformer는 아직 배우지 않았기 때문에 CNN 블록을 추가하는 VGG 스타일로 모델을 재구성하였습니다.\n",
        "- 튜닝6(VGG스타일로 CNN 블록 추가) : loss: 0.6497, accuracy: 0.8226\n",
        "    - 처음으로 accuracy 0.8을 넘어섰습니다만, overfitting 상태로 보입니다.\n",
        "- 튜닝7(L2 규제 조정(0.0005)) : loss: 0.7879, accuracy: 0.8339\n",
        "    - 여전히 overfitting된 상태입니다. dropout rate를 수정해보겠습니다.\n",
        "- 튜닝8(dropout 조정(0.3)) :  loss: 0.6966, accuracy: 0.8363\n",
        "    - 튜닝6과 튜닝7과 비교하여 눈에 띠게 training-validation 격차가 줄었습니다.\n",
        "    - 이모델을 최종모델로 결정하였습니다."
      ],
      "metadata": {
        "id": "KAoOtDib9Pp_"
      }
    },
    {
      "cell_type": "markdown",
      "source": [
        "총평\n",
        "- 딥러닝 학습은 모델의 training과 validation의 그래프를 비교하며 상호작용하는 것이 중요한 것 같습니다.\n",
        "- 이론적으로 많이 아는 것도 중요하지만, 딥러닝 모델 튜닝은 학습된 모델로부터 training과 validation의 그래프를 그린 후 올바른 개선 방향을 판단하는 insight가 정말 중요한 요소일 것 생각이 들었습니다."
      ],
      "metadata": {
        "id": "RoubiydwIY2w"
      }
    },
    {
      "cell_type": "code",
      "source": [],
      "metadata": {
        "id": "oS2VlGCs86ZM"
      },
      "execution_count": null,
      "outputs": []
    }
  ]
}
